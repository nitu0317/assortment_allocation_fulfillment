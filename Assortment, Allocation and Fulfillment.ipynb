{
 "cells": [
  {
   "cell_type": "code",
   "execution_count": 1,
   "metadata": {},
   "outputs": [],
   "source": [
    "import pandas as pd\n",
    "import numpy as np\n",
    "import datetime as dt\n",
    "from gurobipy import *\n",
    "from matplotlib import pyplot as plt\n",
    "import collections\n",
    "from copy import *\n",
    "from IPython.display import HTML\n",
    "from IPython.display import display\n",
    "from collections import *"
   ]
  },
  {
   "cell_type": "code",
   "execution_count": 2,
   "metadata": {},
   "outputs": [],
   "source": [
    "# 'skus' table\n",
    "skus = pd.read_csv('JD_sku_data.csv')\n",
    "# 'orders' table\n",
    "orders = pd.read_csv('JD_order_data.csv')\n",
    "# 'delivery' table\n",
    "delivery = pd.read_csv('JD_delivery_data.csv')\n",
    "# 'inventory' table\n",
    "inventory = pd.read_csv('JD_inventory_data.csv')\n",
    "# 'network' table\n",
    "network = pd.read_csv('JD_network_data.csv')"
   ]
  },
  {
   "cell_type": "markdown",
   "metadata": {},
   "source": [
    "# Data Processing"
   ]
  },
  {
   "cell_type": "markdown",
   "metadata": {},
   "source": [
    "We consider one region as instance"
   ]
  },
  {
   "cell_type": "code",
   "execution_count": 3,
   "metadata": {
    "scrolled": true
   },
   "outputs": [
    {
     "data": {
      "text/plain": [
       "[3, 14, 33, 34, 35, 64]"
      ]
     },
     "execution_count": 3,
     "metadata": {},
     "output_type": "execute_result"
    }
   ],
   "source": [
    "sample_dcs = sorted(network[network['region_ID'] == 3]['dc_ID'].tolist())\n",
    "sample_dcs"
   ]
  },
  {
   "cell_type": "code",
   "execution_count": 4,
   "metadata": {},
   "outputs": [],
   "source": [
    "orders_in_sample_dcs = orders[(orders['dc_des'].isin(sample_dcs)) & (orders['order_date'] <= '2018-03-31')]"
   ]
  },
  {
   "cell_type": "code",
   "execution_count": 5,
   "metadata": {},
   "outputs": [],
   "source": [
    "skus_in_sample_dcs = orders_in_sample_dcs.groupby('sku_ID').count()['order_ID'].to_dict()"
   ]
  },
  {
   "cell_type": "markdown",
   "metadata": {},
   "source": [
    "We choose top SKUs "
   ]
  },
  {
   "cell_type": "code",
   "execution_count": 6,
   "metadata": {},
   "outputs": [],
   "source": [
    "demand_over_skus = orders_in_sample_dcs.groupby('sku_ID').count()['order_ID'].to_dict()\n",
    "sample_skus = [i for i, j in sorted(demand_over_skus.items(), key = lambda kv: kv[1], reverse=True)]\n",
    "\n",
    "sample_skus = sample_skus[:10]"
   ]
  },
  {
   "cell_type": "code",
   "execution_count": 11,
   "metadata": {},
   "outputs": [],
   "source": [
    "sample_orders = orders_in_sample_dcs[orders_in_sample_dcs['sku_ID'].isin(sample_skus)]\n",
    "demand_over_skus = sample_orders.groupby('sku_ID').count()['order_ID'].to_dict()\n",
    "demand_over_dcs = sample_orders.groupby('dc_des').count()['order_ID'].to_dict()\n",
    "sample_skus = [i for i, j in sorted(demand_over_skus.items(), key = lambda kv: kv[1], reverse=True)]"
   ]
  },
  {
   "cell_type": "code",
   "execution_count": 12,
   "metadata": {},
   "outputs": [
    {
     "data": {
      "text/plain": [
       "10"
      ]
     },
     "execution_count": 12,
     "metadata": {},
     "output_type": "execute_result"
    }
   ],
   "source": [
    "len(sample_skus)"
   ]
  },
  {
   "cell_type": "code",
   "execution_count": 13,
   "metadata": {},
   "outputs": [],
   "source": [
    "demand_dist = {}\n",
    "for i in sample_dcs:\n",
    "    for k in sample_skus:\n",
    "        hist = []\n",
    "        for d in range(1, 32):\n",
    "            if d <= 9:\n",
    "                date = '2018-03-0' + str(d)\n",
    "            else:\n",
    "                date = '2018-03-' + str(d)\n",
    "            hist.append(len(sample_orders[(sample_orders['dc_des'] == i) & (sample_orders['sku_ID'] == k) & (sample_orders['order_date'] == date)]))\n",
    "            \n",
    "        demand_dist[i, k] = (np.mean(hist), np.std(hist))"
   ]
  },
  {
   "cell_type": "markdown",
   "metadata": {},
   "source": [
    "We generate demand scenarios"
   ]
  },
  {
   "cell_type": "code",
   "execution_count": 14,
   "metadata": {},
   "outputs": [],
   "source": [
    "total_demand = sum(demand_over_skus.values()) \n",
    "T = int((np.ceil(total_demand / 1000)) * 1000) \n",
    "sku_freq = []\n",
    "for k in sample_skus:\n",
    "    if k in demand_over_skus:\n",
    "        sku_freq.append(demand_over_skus[k] / T)\n",
    "    else:\n",
    "        sku_freq.append(0)\n",
    "dc_freq = [demand_over_dcs[dc] / total_demand for dc in sample_dcs]\n",
    "multinomial_sku = [1 - sum(sku_freq)] + sku_freq\n",
    "multinomial_dc = dc_freq"
   ]
  },
  {
   "cell_type": "code",
   "execution_count": 15,
   "metadata": {},
   "outputs": [],
   "source": [
    "N = 1000\n",
    "demand_scenarios = []\n",
    "demand_scenarios_agg = []\n",
    "\n",
    "for n in range(N):\n",
    "    skus = np.random.choice(['NA'] + sample_skus, T, p=multinomial_sku)\n",
    "    dcs = np.random.choice(sample_dcs, T, p=multinomial_dc)\n",
    "    sample = list(zip(skus, dcs))\n",
    "        \n",
    "    demand_scenarios.append(sample)\n",
    "\n",
    "#     D = {}\n",
    "#     for i in sample_dcs:\n",
    "#         for k in sample_skus:\n",
    "#             D[k, i] = max(int(sum(np.random.normal(demand_dist[i, k][0], demand_dist[i, k][1], 7))), 0)\n",
    "#     demand_scenarios_agg.append(D)\n",
    "\n",
    "expected = {}\n",
    "for k in range(len(sku_freq)):\n",
    "    for i in range(len(dc_freq)):\n",
    "        expected[sample_skus[k], sample_dcs[i]] = T * sku_freq[k] * dc_freq[i]\n",
    "    "
   ]
  },
  {
   "cell_type": "markdown",
   "metadata": {},
   "source": [
    "We can also consider a special case "
   ]
  },
  {
   "cell_type": "code",
   "execution_count": 457,
   "metadata": {},
   "outputs": [],
   "source": [
    "# sample_dcs = ['A', 'B', 'C', 'D', 'E', 'F', 'G', 'H']\n",
    "# sample_skus = [i for i in range(1, 9)]\n",
    "\n",
    "sample_dcs = ['A', 'B', 'C', 'D']\n",
    "sample_skus = [i for i in range(1, 9)]"
   ]
  },
  {
   "cell_type": "code",
   "execution_count": 459,
   "metadata": {},
   "outputs": [],
   "source": [
    "N = 1000\n",
    "    \n",
    "demand_scenarios = []\n",
    "sku_mean = np.arange(100, 120, 0.1)[::-1]\n",
    "sku_std = np.arange(0, 50, 5)[::-1]\n",
    "dc_freq = [1/len(sample_dcs)] * len(sample_dcs)\n",
    "\n",
    "for n in range(N):\n",
    "    skus = []\n",
    "    for k in sample_skus:\n",
    "        skus += [k] * int(max(0, np.random.normal(sku_mean[sample_skus.index(k)], sku_std[sample_skus.index(k)])))\n",
    "    skus = np.random.permutation(skus)    \n",
    "        \n",
    "    dcs = np.random.choice(sample_dcs, len(skus), p=dc_freq)\n",
    "    sample = list(zip(skus, dcs))\n",
    "    demand_scenarios.append(sample)  \n",
    "    \n",
    "expected = {}\n",
    "for k in range(len(sample_skus)):\n",
    "    for i in range(len(sample_dcs)):\n",
    "        expected[sample_skus[k], sample_dcs[i]] = sku_mean[k] * dc_freq[i]"
   ]
  },
  {
   "cell_type": "markdown",
   "metadata": {},
   "source": [
    "## Model Formulation"
   ]
  },
  {
   "cell_type": "code",
   "execution_count": 23,
   "metadata": {},
   "outputs": [],
   "source": [
    "def optimize(S, D): \n",
    "    model = Model('model')\n",
    "    model.setParam(\"LogToConsole\", 0)\n",
    "\n",
    "    fulfill = model.addVars(((k, i, j) for k in sample_skus for i in supply for j in demand), vtype=GRB.CONTINUOUS, name='fulfill')\n",
    "\n",
    "    model.setObjective(sum(fulfill[k, i, j] * cost[k, i, j] for k, i, j in fulfill), GRB.MINIMIZE)\n",
    "\n",
    "    for k in sample_skus:\n",
    "        for i in supply:\n",
    "            model.addConstr(fulfill.sum(k, i, '*') <= S[k, i], name='supply_%s_%s' % (k, i))\n",
    "\n",
    "        for j in demand:\n",
    "            model.addConstr(fulfill.sum(k, '*', j) == D[k, j], name='demand_%s_%s' % (k, j))\n",
    "\n",
    "    model.optimize()\n",
    "    \n",
    "    return model, fulfill\n",
    "\n",
    "def optimize_k(k, S, D): \n",
    "    model = Model('model_1')\n",
    "    model.setParam(\"LogToConsole\", 0)\n",
    "\n",
    "    fulfill = model.addVars([(i, j) for i in supply for j in demand], vtype=GRB.CONTINUOUS, name='fulfill_1')\n",
    "\n",
    "    model.setObjective(sum(fulfill[i, j] * cost[k, i, j] for i, j in fulfill), GRB.MINIMIZE)\n",
    "\n",
    "    for i in supply:\n",
    "        model.addConstr(sum(fulfill[i, j] for j in demand) <= S[k, i])\n",
    "\n",
    "    for j in demand:\n",
    "        model.addConstr(sum(fulfill[i, j] for i in supply) == D[k, j])\n",
    "\n",
    "    model.optimize()\n",
    "    \n",
    "    return model, fulfill\n",
    "\n",
    "def misp_k(k, D, _lambda): \n",
    "    model = Model()\n",
    "    model.setParam(\"LogToConsole\", 0)\n",
    "\n",
    "    Z = model.addVar(vtype=GRB.BINARY, name='indicator')\n",
    "    S = model.addVars([i for i in supply], vtype=GRB.CONTINUOUS, name='inventory')\n",
    "    F = model.addVars([(m, i, j) for m in range(len(D)) for i in supply for j in demand], vtype=GRB.CONTINUOUS, name='fulfill')\n",
    "    \n",
    "    allocation_cost = sum(S[i] * b for i in supply[1:])\n",
    "    fulfill_cost = sum(F[m, i, j] * cost[k, i, j] for m in range(len(D)) for i in supply for j in demand) / len(D)\n",
    "    penalty_cost = _lambda * Z\n",
    "    \n",
    "    model.setObjective(allocation_cost + fulfill_cost + penalty_cost, GRB.MINIMIZE)\n",
    "\n",
    "    model.addConstr(S[0] == 10000)\n",
    "    \n",
    "    for m in range(len(D)):\n",
    "        for i in supply:\n",
    "            model.addConstr(F.sum(m, i, '*') <= S[i])\n",
    "\n",
    "        for j in demand:\n",
    "            model.addConstr(F.sum(m, '*', j) == D[m][j])\n",
    "                 \n",
    "    model.addConstr(sum(S[i] for i in supply[1:]) <= 10000 * Z)\n",
    "        \n",
    "    model.optimize()\n",
    "    \n",
    "    S_k = model.getAttr('X', S)\n",
    "    #Z_k = model.getAttr('X', Z)\n",
    "    \n",
    "    return S_k"
   ]
  },
  {
   "cell_type": "markdown",
   "metadata": {},
   "source": [
    "We set up parameters"
   ]
  },
  {
   "cell_type": "code",
   "execution_count": 24,
   "metadata": {},
   "outputs": [],
   "source": [
    "b = 1\n",
    "\n",
    "supply = [0] + sample_dcs\n",
    "demand = sample_dcs\n",
    "cost = {}\n",
    "for k in sample_skus:\n",
    "    for j in demand:\n",
    "        for i in supply:              \n",
    "            if i == 0:\n",
    "                cost[k, i, j] = np.random.normal(10, 0)\n",
    "            else:\n",
    "                if i == j:\n",
    "                    cost[k, i, j] = np.random.normal(2, 0)\n",
    "                elif i == sample_dcs[0]:\n",
    "                    cost[k, i, j] = np.random.normal(4, 0)\n",
    "#                 elif (i, j) in [(33, 34), (34, 35), (35, 64), (64, 33)]:    \n",
    "#                     cost[k, i, j] = np.random.normal(4, 0)\n",
    "                else:\n",
    "                    cost[k, i, j] = np.random.normal(6, 0)\n",
    "            "
   ]
  },
  {
   "cell_type": "markdown",
   "metadata": {},
   "source": [
    "\n",
    "We optimize inventory allocation with capacity constraints"
   ]
  },
  {
   "cell_type": "code",
   "execution_count": 35,
   "metadata": {},
   "outputs": [],
   "source": [
    "unit = {}\n",
    "for i in supply[1:]:\n",
    "    if i == sample_dcs[0]:\n",
    "        unit[i] = 100000\n",
    "    else:\n",
    "        unit[i] = 100000\n",
    "        \n",
    "S_init = defaultdict(int)\n",
    "\n",
    "for k in sample_skus:\n",
    "    S_init[k, 0] = 1e8 \n",
    "    for i in supply[1:]:\n",
    "        #S_init[k, i] = int(expected[k, i])\n",
    "        S_init[k, i] = 0"
   ]
  },
  {
   "cell_type": "code",
   "execution_count": 38,
   "metadata": {},
   "outputs": [
    {
     "name": "stdout",
     "output_type": "stream",
     "text": [
      "3 [117, 88, 67, 0, 0, 0, 0, 0, 0, 0]\n",
      "14 [25, 19, 14, 0, 0, 0, 0, 0, 0, 0]\n",
      "33 [393, 295, 212, 0, 0, 0, 0, 0, 0, 0]\n",
      "34 [207, 154, 112, 0, 0, 0, 0, 0, 0, 0]\n",
      "35 [204, 149, 109, 0, 0, 0, 0, 0, 0, 0]\n",
      "64 [212, 156, 116, 0, 0, 0, 0, 0, 0, 0]\n",
      "------------------\n",
      "3 [117, 88, 67, 0, 0, 0, 0, 0, 0, 0]\n",
      "14 [25, 19, 14, 0, 0, 0, 0, 0, 0, 0]\n",
      "33 [393, 295, 212, 0, 0, 0, 0, 0, 0, 0]\n",
      "34 [207, 154, 112, 0, 0, 0, 0, 0, 0, 0]\n",
      "35 [204, 149, 109, 0, 0, 0, 0, 0, 0, 0]\n",
      "64 [212, 156, 116, 0, 0, 0, 0, 0, 0, 0]\n",
      "------------------\n",
      "3 [117, 88, 67, 0, 0, 0, 0, 0, 0, 0]\n",
      "14 [25, 19, 14, 0, 0, 0, 0, 0, 0, 0]\n",
      "33 [393, 295, 212, 0, 0, 0, 0, 0, 0, 0]\n",
      "34 [207, 154, 112, 0, 0, 0, 0, 0, 0, 0]\n",
      "35 [204, 149, 109, 0, 0, 0, 0, 0, 0, 0]\n",
      "64 [212, 156, 116, 0, 0, 0, 0, 0, 0, 0]\n",
      "------------------\n"
     ]
    }
   ],
   "source": [
    "solve_allocation_coordinate()"
   ]
  },
  {
   "cell_type": "code",
   "execution_count": 37,
   "metadata": {},
   "outputs": [],
   "source": [
    "def solve_allocation_coordinate():\n",
    "    for tau in range(3):\n",
    "        for k in sample_skus:\n",
    "            D = []\n",
    "            for _iter in range(200):\n",
    "                sample_path = demand_scenarios[_iter]\n",
    "                D_ins = collections.defaultdict(int)\n",
    "                for pair in sample_path:\n",
    "                    if k == pair[0]:\n",
    "                        D_ins[pair[1]] += 1\n",
    "                D.append(D_ins)  \n",
    "\n",
    "#             critical = {}\n",
    "#             for i in sample_dcs:\n",
    "#                 position = [S_init[l, i] for l in sample_skus if l != k]\n",
    "#                 if card[i] < len(sample_skus):\n",
    "#                     critical[i] = sorted(position, reverse=True)[card[i]-1]\n",
    "#                 else:\n",
    "#                     crtitcal[i] = 0\n",
    "            \n",
    "            _lambda = 4000\n",
    "            S_k = misp_k(k, D, _lambda)\n",
    "                \n",
    "            for i in sample_dcs:\n",
    "                S_init[k, i] = S_k[i]\n",
    "                                 \n",
    "        for i in supply[1:]:\n",
    "            res = []\n",
    "            for k in sample_skus:\n",
    "                res.append(int(S_init[k, i]))\n",
    "            print(i, res)\n",
    "        print('------------------')"
   ]
  },
  {
   "cell_type": "code",
   "execution_count": 653,
   "metadata": {},
   "outputs": [],
   "source": [
    "allocation = []\n",
    "for i in supply[1:]:\n",
    "    res = []\n",
    "    for k in sample_skus:\n",
    "        if int(S_init[k, i]) <= 0:\n",
    "            Q = 0\n",
    "            S_init[k, i] = 0\n",
    "        else:\n",
    "            Q = int(S_init[k, i])\n",
    "        res.append(Q)\n",
    "    allocation.append(res)\n",
    "allocation = np.array(allocation)"
   ]
  },
  {
   "cell_type": "code",
   "execution_count": 654,
   "metadata": {},
   "outputs": [
    {
     "data": {
      "text/plain": [
       "array([[288, 213,   0, 208, 202, 202, 197, 195,  45,  46,  46,  45,   0,\n",
       "         46,   0,   0,   0,   0,   0,   0],\n",
       "       [  0,   0,   0,   0,   0,   0,   0,   0,   0,   0,   0,   0,   0,\n",
       "          0,   0,  41,   0,  41,  29,  42],\n",
       "       [242, 175,  68,   0,   0,   0,   0,   0,   0,   0,   0,   0,   0,\n",
       "          0,   0,   0,   0,   0,  13,   0],\n",
       "       [222, 165,  50,   0,   0,   0,   0,   0,   0,   0,   0,   0,   0,\n",
       "          0,  42,   0,   0,   0,   0,   0],\n",
       "       [206, 153,  47,   0,   0,   0,   0,   0,   0,   0,   0,   0,   0,\n",
       "          0,   0,   0,  41,   0,   0,   0],\n",
       "       [188, 139,  43,   0,   0,   0,   0,   0,   0,   0,   0,   0,  43,\n",
       "          0,   0,   0,   0,   0,   0,   0]])"
      ]
     },
     "execution_count": 654,
     "metadata": {},
     "output_type": "execute_result"
    }
   ],
   "source": [
    "allocation"
   ]
  },
  {
   "cell_type": "markdown",
   "metadata": {},
   "source": [
    "We present the results"
   ]
  },
  {
   "cell_type": "code",
   "execution_count": 1361,
   "metadata": {},
   "outputs": [],
   "source": [
    "df = pd.read_excel('300sku_quantity_v3.xlsx')\n",
    "allocation = np.array(df)\n",
    "for k in sample_skus:\n",
    "    for i in sample_dcs:\n",
    "        idx_k = sample_skus.index(k)\n",
    "        idx_i = sample_dcs.index(i)\n",
    "        S_init[k, i] = allocation[idx_i, idx_k]"
   ]
  },
  {
   "cell_type": "code",
   "execution_count": 658,
   "metadata": {},
   "outputs": [],
   "source": [
    "import pandas as pd\n",
    "df = pd.DataFrame(allocation)\n",
    "df.to_excel('20sku_quantity_v2.xlsx', index=False)"
   ]
  },
  {
   "cell_type": "markdown",
   "metadata": {},
   "source": [
    "We simulate online fulfillment"
   ]
  },
  {
   "cell_type": "code",
   "execution_count": 561,
   "metadata": {},
   "outputs": [
    {
     "name": "stdout",
     "output_type": "stream",
     "text": [
      "---iter 0---\n",
      "12206.0\n",
      "---iter 1---\n",
      "12572.0\n",
      "---iter 2---\n",
      "12368.0\n",
      "---iter 3---\n",
      "12572.0\n",
      "---iter 4---\n",
      "12534.0\n",
      "---iter 5---\n",
      "12356.0\n",
      "---iter 6---\n",
      "12336.0\n",
      "---iter 7---\n",
      "12430.0\n",
      "---iter 8---\n",
      "12390.0\n",
      "---iter 9---\n",
      "12154.0\n"
     ]
    }
   ],
   "source": [
    "offline_value, online_value, online_value_greedy = [], [], []\n",
    "offline_fulfill, online_fulfill = defaultdict(int), defaultdict(int)\n",
    "\n",
    "np.random.seed(1234)\n",
    "for _iter in range(10):    \n",
    "    print('---iter ' + str(_iter) + '---')\n",
    "    sample_path = demand_scenarios[_iter]\n",
    "    \n",
    "    #offline\n",
    "    D = collections.defaultdict(int)\n",
    "    for pair in sample_path:\n",
    "        k, i = pair[0], pair[1]\n",
    "        D[k, i] += 1\n",
    "\n",
    "    #D = demand_scenarios_agg[_iter]\n",
    "    model, fulfill = optimize(S_init, D)\n",
    "    offline_value.append(model.getAttr('objVal'))\n",
    "        \n",
    "    print(offline_value[_iter])\n",
    "    \n",
    "    # online \n",
    "    obj_bayes = 0\n",
    "    obj_greedy = 0\n",
    "    S_bayes = deepcopy(S_init)\n",
    "    S_greedy = deepcopy(S_init)\n",
    "#     for t in range(T): \n",
    "#         # serve demand\n",
    "#         d = sample_path[t]\n",
    "#         if d[0] != 'NA':\n",
    "#             ### greedy \n",
    "#             i = sorted([(i, cost[d[0], i, d[1]]) for i in supply if S_greedy[d[0], i] >= 1], key=lambda x:x[1])[0][0]\n",
    "#             obj_greedy += cost[d[0], i, d[1]]\n",
    "#             S_greedy[d[0], i] -= 1            \n",
    "            \n",
    "            \n",
    "#             ### bayes selector          \n",
    "#             if t == 0:\n",
    "#                 D = collections.defaultdict(int)\n",
    "#                 for k in sample_skus:\n",
    "#                     for j in sample_dcs:\n",
    "#                         D[k, j] = (T-t) * sku_freq_first[sample_skus.index(k)] * dc_freq_first[sample_dcs.index(j)]\n",
    "                \n",
    "#                 model, fulfill = optimize(S_bayes, D)\n",
    "#                 _fulfill = model.getAttr('X', fulfill)\n",
    "\n",
    "#                 policy = {}\n",
    "#                 for k in sample_skus:\n",
    "#                     for j in demand:\n",
    "#                         flow = sorted([(i, _fulfill[k, i, j]) for i in supply], key=lambda x:x[1], reverse=True)\n",
    "#                         policy[k, j] = flow[0][0]\n",
    "            \n",
    "#             elif t % 1 == 0:\n",
    "#                 D = collections.defaultdict(int)\n",
    "#                 for k in sample_skus:\n",
    "#                     for j in sample_dcs:\n",
    "#                         D[k, j] = (T-t) * sku_freq_first[sample_skus.index(k)] * dc_freq_first[sample_dcs.index(j)]                      \n",
    "                \n",
    "#                 model, fulfill = optimize_k(d[0], S_bayes, D)\n",
    "#                 _fulfill = model.getAttr('X', fulfill)\n",
    "#                 policy[d] = sorted([(i, _fulfill[i, d[1]]) for i in supply], key=lambda x:x[1], reverse=True)[0][0]         \n",
    "                        \n",
    "#             i = policy[d]\n",
    "                     \n",
    "#             if S_bayes[d[0], i] >= 1:\n",
    "#                 obj_bayes += cost[d[0], i, d[1]]\n",
    "#                 S_bayes[d[0], i] -= 1\n",
    "#                 online_fulfill[(d[0], i, d[1])] += 1\n",
    "#             else: \n",
    "#                 obj_bayes += cost[d[0], 0, d[1]]\n",
    "#                 S_bayes[d[0], 0] -= 1\n",
    "            \n",
    "#     print(obj_bayes)\n",
    "#     print(obj_greedy)\n",
    "#     online_value.append(obj_bayes)\n",
    "#     online_value_greedy.append(obj_greedy)\n",
    "    \n",
    "#     for i in supply[1:]:\n",
    "#         res = []\n",
    "#         for k in sample_skus:\n",
    "#             res.append(int(S_bayes[k, i]))\n",
    "#         print(i, res)\n",
    "#     print('------------------')\n",
    "    "
   ]
  },
  {
   "cell_type": "code",
   "execution_count": 562,
   "metadata": {},
   "outputs": [
    {
     "name": "stderr",
     "output_type": "stream",
     "text": [
      "/home/nitu/anaconda3/lib/python3.6/site-packages/numpy/core/fromnumeric.py:3118: RuntimeWarning: Mean of empty slice.\n",
      "  out=out, **kwargs)\n",
      "/home/nitu/anaconda3/lib/python3.6/site-packages/numpy/core/_methods.py:85: RuntimeWarning: invalid value encountered in double_scalars\n",
      "  ret = ret.dtype.type(ret / rcount)\n"
     ]
    },
    {
     "data": {
      "text/plain": [
       "(12391.8, nan, nan)"
      ]
     },
     "execution_count": 562,
     "metadata": {},
     "output_type": "execute_result"
    }
   ],
   "source": [
    "np.mean(offline_value), np.mean(online_value), np.mean(online_value_greedy)"
   ]
  },
  {
   "cell_type": "code",
   "execution_count": 563,
   "metadata": {},
   "outputs": [
    {
     "data": {
      "text/plain": [
       "15645.8"
      ]
     },
     "execution_count": 563,
     "metadata": {},
     "output_type": "execute_result"
    }
   ],
   "source": [
    "sum(int(S_init[k, i]) for k in sample_skus for i in sample_dcs) * b + np.mean(offline_value)"
   ]
  },
  {
   "cell_type": "code",
   "execution_count": 398,
   "metadata": {},
   "outputs": [],
   "source": [
    "flexible = {1:[('G', 'A'), ('B', 'F')], 2:[('A', 'G'), ('D', 'B')], 3:[], 4:[], 5:[], 6:[]}\n",
    "# flexible = {1:[('B', 'A'), ('C', 'B'), ('D', 'C'), ('E', 'D'), ('F', 'E'), ('G', 'F'), ('H', 'G'), ('A', 'H')], 2:[('B', 'A'), ('C', 'B'), ('D', 'C'), ('E', 'D'), ('F', 'E'), ('G', 'F'), ('H', 'G'), ('A', 'H')], 3:[], 4:[], 5:[], 6:[]}"
   ]
  },
  {
   "cell_type": "code",
   "execution_count": 420,
   "metadata": {},
   "outputs": [],
   "source": [
    "sparse, remote = 0, 0\n",
    "for k in sample_skus:\n",
    "    if k == 3:\n",
    "        for i in sample_dcs:\n",
    "            for j in sample_dcs:\n",
    "                if (i, j) in flexible[k] or cost[k, i, j] <= 4:\n",
    "                    sparse += online_fulfill[k, i, j]\n",
    "                else:\n",
    "                    remote += online_fulfill[k, i, j]"
   ]
  },
  {
   "cell_type": "code",
   "execution_count": 421,
   "metadata": {},
   "outputs": [
    {
     "data": {
      "text/plain": [
       "0.9962852897473997"
      ]
     },
     "execution_count": 421,
     "metadata": {},
     "output_type": "execute_result"
    }
   ],
   "source": [
    "sparse / (sparse + remote)"
   ]
  },
  {
   "cell_type": "markdown",
   "metadata": {},
   "source": [
    "## Appendix"
   ]
  },
  {
   "cell_type": "code",
   "execution_count": 566,
   "metadata": {},
   "outputs": [],
   "source": [
    "# MIP formulation\n",
    "def optimize_deterministic(D):  \n",
    "    model = Model('mip')\n",
    "    model.setParam(\"LogToConsole\", 1)\n",
    "    Z = model.addVars([(k, i) for k in sample_skus for i in supply[1:]], vtype=GRB.BINARY, name='indicator')\n",
    "    S = model.addVars([(k, i) for k in sample_skus for i in supply], vtype=GRB.CONTINUOUS, name='inventory')\n",
    "    F = model.addVars([(k, i, j) for k in sample_skus for i in supply for j in demand], vtype=GRB.CONTINUOUS, name='fulfill')\n",
    "    \n",
    "    allocation_cost = sum(S[k, i] * b for k in sample_skus for i in supply[1:])\n",
    "    fulfill_cost = sum(F[k, i, j] * cost[k, i, j] for k in sample_skus for i in supply for j in demand)\n",
    "    \n",
    "    model.setObjective(allocation_cost + fulfill_cost, GRB.MINIMIZE)\n",
    "\n",
    "    for k in sample_skus:\n",
    "        model.addConstr(S[k, 0] == 10000)\n",
    "        for i in supply:\n",
    "            model.addConstr(F.sum(k, i, '*') <= S[k, i], name='supply_%s_%s' % (k, i))\n",
    "\n",
    "        for j in demand:\n",
    "            model.addConstr(F.sum(k, '*', j) == D[k, j], name='demand_%s_%s' % (k, j))\n",
    "            \n",
    "    for i in supply[1:]:\n",
    "        #model.addConstr(Z.sum('*', i) <= card[i])\n",
    "        for k in sample_skus:\n",
    "            model.addConstr(S[k, i] <= 1000 * Z[k, i])\n",
    "            \n",
    "    for i in supply[1:]:\n",
    "        model.addConstr(S.sum('*', i) <= unit[i])\n",
    "\n",
    "    model.optimize()\n",
    "    \n",
    "    return model, Z, S, F"
   ]
  },
  {
   "cell_type": "code",
   "execution_count": 567,
   "metadata": {},
   "outputs": [
    {
     "name": "stdout",
     "output_type": "stream",
     "text": [
      "---\n",
      "Parameter LogToConsole unchanged\n",
      "   Value: 1  Min: 0  Max: 1  Default: 1\n",
      "Optimize a model with 406 rows, 1100 columns and 2200 nonzeros\n",
      "Variable types: 980 continuous, 120 integer (120 binary)\n",
      "Coefficient statistics:\n",
      "  Matrix range     [1e+00, 1e+03]\n",
      "  Objective range  [1e+00, 1e+01]\n",
      "  Bounds range     [1e+00, 1e+00]\n",
      "  RHS range        [8e-01, 1e+05]\n",
      "Found heuristic solution: objective 35280.000000\n",
      "Presolve removed 394 rows and 1064 columns\n",
      "Presolve time: 0.00s\n",
      "Presolved: 12 rows, 36 columns, 72 nonzeros\n",
      "Found heuristic solution: objective 18333.000000\n",
      "Variable types: 36 continuous, 0 integer (0 binary)\n",
      "\n",
      "Root relaxation: objective 1.058400e+04, 14 iterations, 0.00 seconds\n",
      "\n",
      "    Nodes    |    Current Node    |     Objective Bounds      |     Work\n",
      " Expl Unexpl |  Obj  Depth IntInf | Incumbent    BestBd   Gap | It/Node Time\n",
      "\n",
      "*    0     0               0    10584.000000 10584.0000  0.00%     -    0s\n",
      "\n",
      "Explored 0 nodes (14 simplex iterations) in 0.02 seconds\n",
      "Thread count was 4 (of 4 available processors)\n",
      "\n",
      "Solution count 2: 10584 18333 \n",
      "\n",
      "Optimal solution found (tolerance 1.00e-04)\n",
      "Best objective 1.058400000000e+04, best bound 1.058400000000e+04, gap 0.0000%\n",
      "[105, 77, 18, 18, 17, 17, 17, 17, 3, 3, 3, 3, 3, 3, 3, 3, 3, 3, 3, 3]\n",
      "[22, 16, 4, 3, 3, 3, 3, 3, 0, 0, 0, 0, 0, 0, 0, 0, 0, 0, 0, 0]\n",
      "[388, 285, 69, 68, 66, 66, 64, 64, 14, 14, 14, 14, 13, 13, 13, 13, 13, 13, 13, 13]\n",
      "[212, 156, 38, 37, 36, 36, 35, 35, 7, 7, 7, 7, 7, 7, 7, 7, 7, 7, 7, 7]\n",
      "[198, 146, 35, 35, 33, 33, 33, 32, 7, 7, 7, 7, 6, 6, 6, 6, 6, 6, 6, 6]\n",
      "[180, 132, 32, 31, 30, 30, 30, 29, 6, 6, 6, 6, 6, 6, 6, 6, 6, 6, 6, 6]\n"
     ]
    }
   ],
   "source": [
    "sample_mean = defaultdict(int)\n",
    "for _iter in range(200):\n",
    "    sample_path = demand_scenarios[_iter] \n",
    "    for pair in sample_path:\n",
    "        k, i = pair[0], pair[1]\n",
    "        sample_mean[k, i] += 1\n",
    "#     D = demand_scenarios_agg[_iter]\n",
    "#     for k in sample_skus:\n",
    "#         for j in demand:\n",
    "#             sample_mean[k, j] += D[k, j]\n",
    "\n",
    "print('---')\n",
    "D = {}\n",
    "for k in sample_skus:\n",
    "    for j in demand:\n",
    "        D[k, j] = expected[k, j]\n",
    "        \n",
    "model, Z, S, F = optimize_deterministic(D)\n",
    "_S = model.getAttr('X', S)\n",
    "for i in supply[1:]:\n",
    "    res = []\n",
    "    for k in sample_skus:\n",
    "        res.append(int(_S[k, i]))\n",
    "    print(res)\n",
    "    \n",
    "S_init = _S"
   ]
  },
  {
   "cell_type": "code",
   "execution_count": null,
   "metadata": {},
   "outputs": [],
   "source": []
  }
 ],
 "metadata": {
  "kernelspec": {
   "display_name": "Python 3",
   "language": "python",
   "name": "python3"
  },
  "language_info": {
   "codemirror_mode": {
    "name": "ipython",
    "version": 3
   },
   "file_extension": ".py",
   "mimetype": "text/x-python",
   "name": "python",
   "nbconvert_exporter": "python",
   "pygments_lexer": "ipython3",
   "version": "3.6.8"
  }
 },
 "nbformat": 4,
 "nbformat_minor": 2
}
