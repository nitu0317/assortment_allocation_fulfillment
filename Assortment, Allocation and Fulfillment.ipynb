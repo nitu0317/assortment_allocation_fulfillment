{
 "cells": [
  {
   "cell_type": "code",
   "execution_count": 1,
   "metadata": {},
   "outputs": [],
   "source": [
    "import pandas as pd\n",
    "import numpy as np\n",
    "import datetime as dt\n",
    "from gurobipy import *\n",
    "from matplotlib import pyplot as plt\n",
    "import collections\n",
    "from copy import *\n",
    "from IPython.display import HTML\n",
    "from IPython.display import display\n",
    "from collections import *"
   ]
  },
  {
   "cell_type": "code",
   "execution_count": 2,
   "metadata": {},
   "outputs": [],
   "source": [
    "# 'skus' table\n",
    "skus = pd.read_csv('JD_sku_data.csv')\n",
    "# 'orders' table\n",
    "orders = pd.read_csv('JD_order_data.csv')\n",
    "# 'delivery' table\n",
    "delivery = pd.read_csv('JD_delivery_data.csv')\n",
    "# 'inventory' table\n",
    "inventory = pd.read_csv('JD_inventory_data.csv')\n",
    "# 'network' table\n",
    "network = pd.read_csv('JD_network_data.csv')"
   ]
  },
  {
   "cell_type": "markdown",
   "metadata": {},
   "source": [
    "# Data Processing"
   ]
  },
  {
   "cell_type": "markdown",
   "metadata": {},
   "source": [
    "We consider one region as instance"
   ]
  },
  {
   "cell_type": "code",
   "execution_count": 3,
   "metadata": {
    "scrolled": true
   },
   "outputs": [
    {
     "data": {
      "text/plain": [
       "[3, 14, 33, 34, 35, 64]"
      ]
     },
     "execution_count": 3,
     "metadata": {},
     "output_type": "execute_result"
    }
   ],
   "source": [
    "sample_dcs = sorted(network[network['region_ID'] == 3]['dc_ID'].tolist())\n",
    "sample_dcs"
   ]
  },
  {
   "cell_type": "code",
   "execution_count": 4,
   "metadata": {},
   "outputs": [
    {
     "data": {
      "text/plain": [
       "27493"
      ]
     },
     "execution_count": 4,
     "metadata": {},
     "output_type": "execute_result"
    }
   ],
   "source": [
    "orders_in_sample_dcs = orders[(orders['dc_des'].isin(sample_dcs)) & (orders['order_date'] <= '2018-03-31') & (orders['gift_item'] == 0)]\n",
    "len(orders_in_sample_dcs)"
   ]
  },
  {
   "cell_type": "code",
   "execution_count": 5,
   "metadata": {},
   "outputs": [
    {
     "data": {
      "text/plain": [
       "2548"
      ]
     },
     "execution_count": 5,
     "metadata": {},
     "output_type": "execute_result"
    }
   ],
   "source": [
    "skus_in_sample_dcs = orders_in_sample_dcs.groupby('sku_ID').count()['order_ID'].to_dict()\n",
    "len(skus_in_sample_dcs)"
   ]
  },
  {
   "cell_type": "markdown",
   "metadata": {},
   "source": [
    "We choose top SKUs "
   ]
  },
  {
   "cell_type": "code",
   "execution_count": 50,
   "metadata": {},
   "outputs": [],
   "source": [
    "demand_over_skus = orders_in_sample_dcs.groupby('sku_ID').count()['order_ID'].to_dict()\n",
    "sample_skus = [i for i, j in sorted(demand_over_skus.items(), key = lambda kv: kv[1], reverse=True)]\n",
    "\n",
    "sample_skus = sample_skus[:100]\n",
    "sample_orders = orders_in_sample_dcs[orders_in_sample_dcs['sku_ID'].isin(sample_skus)]"
   ]
  },
  {
   "cell_type": "code",
   "execution_count": 51,
   "metadata": {},
   "outputs": [],
   "source": [
    "sample_orders.to_csv(\"sample_orders_top100.csv\")"
   ]
  },
  {
   "cell_type": "code",
   "execution_count": 64,
   "metadata": {},
   "outputs": [],
   "source": [
    "demand_over_skus = sample_orders.groupby('sku_ID').count()['order_ID'].to_dict()\n",
    "demand_over_dcs = sample_orders.groupby('dc_des').count()['order_ID'].to_dict()\n",
    "supply_over_dcs = sample_orders.groupby('dc_ori').count()['order_ID'].to_dict()\n",
    "\n",
    "#sample_skus = [i for i, j in sorted(demand_over_skus.items(), key = lambda kv: kv[1], reverse=True)]"
   ]
  },
  {
   "cell_type": "code",
   "execution_count": 67,
   "metadata": {},
   "outputs": [
    {
     "data": {
      "text/plain": [
       "[0.2754117344312918,\n",
       " 0.008299022130725682,\n",
       " 0.1405043746783325,\n",
       " 0.07707153885743695,\n",
       " 0.06632784354091611,\n",
       " 0.05603448275862069]"
      ]
     },
     "execution_count": 67,
     "metadata": {},
     "output_type": "execute_result"
    }
   ],
   "source": [
    "supply_share_mean = [supply_over_dcs[i] / sum(supply_over_dcs.values()) for i in sample_dcs]\n",
    "supply_share_mean"
   ]
  },
  {
   "cell_type": "code",
   "execution_count": 53,
   "metadata": {},
   "outputs": [],
   "source": [
    "demand_over_skus_dcs = {}\n",
    "for i in sample_dcs:\n",
    "    sample_orders_dc = sample_orders[sample_orders['dc_des'] == i]\n",
    "    tmp = sample_orders_dc.groupby('sku_ID').count()['order_ID'].to_dict()\n",
    "    demand_over_skus_dcs[i] = tmp"
   ]
  },
  {
   "cell_type": "code",
   "execution_count": 54,
   "metadata": {},
   "outputs": [],
   "source": [
    "market_share_dcs = []\n",
    "for i in sample_dcs:\n",
    "    tmp = []\n",
    "    for k in sample_skus:\n",
    "        if k in demand_over_skus_dcs[i]:\n",
    "            tmp.append(demand_over_skus_dcs[i][k] / demand_over_dcs[i])\n",
    "        else:\n",
    "            tmp.append(0)\n",
    "    market_share_dcs.append(tmp)\n",
    "    \n",
    "market_share_skus = []\n",
    "for k in sample_skus:\n",
    "    tmp = []\n",
    "    for i in sample_dcs:\n",
    "        if k in demand_over_skus_dcs[i]:\n",
    "            tmp.append(demand_over_skus_dcs[i][k] / demand_over_dcs[i])\n",
    "        else:\n",
    "            tmp.append(0)\n",
    "    market_share_skus.append(tmp)"
   ]
  },
  {
   "cell_type": "code",
   "execution_count": 56,
   "metadata": {},
   "outputs": [],
   "source": [
    "market_share_mean = np.array(sorted(demand_over_skus.values(), reverse=True)) / sum(demand_over_skus.values())"
   ]
  },
  {
   "cell_type": "code",
   "execution_count": 77,
   "metadata": {},
   "outputs": [
    {
     "data": {
      "text/plain": [
       "[<matplotlib.lines.Line2D at 0x7f7e2c7bb2b0>]"
      ]
     },
     "execution_count": 77,
     "metadata": {},
     "output_type": "execute_result"
    },
    {
     "data": {
      "image/png": "[encoded data removed]",
      "text/plain": [
       "<Figure size 640x480 with 1 Axes>"
      ]
     },
     "metadata": {
      "needs_background": "light"
     },
     "output_type": "display_data"
    }
   ],
   "source": [
    "plt.figure(figsize=(8, 6), dpi=80)\n",
    "plt.plot(np.arange(100), market_share_mean)"
   ]
  },
  {
   "cell_type": "code",
   "execution_count": 79,
   "metadata": {},
   "outputs": [
    {
     "data": {
      "text/plain": [
       "<matplotlib.legend.Legend at 0x7f7e2c764370>"
      ]
     },
     "execution_count": 79,
     "metadata": {},
     "output_type": "execute_result"
    },
    {
     "data": {
      "image/png": "[encoded data removed]",
      "text/plain": [
       "<Figure size 640x480 with 1 Axes>"
      ]
     },
     "metadata": {
      "needs_background": "light"
     },
     "output_type": "display_data"
    }
   ],
   "source": [
    "plt.figure(figsize=(8, 6), dpi=80)\n",
    "plt.plot(np.arange(100), market_share_dcs[2], lw=1, label=\"district 33\")\n",
    "plt.plot(np.arange(100), market_share_dcs[3], lw=1, label=\"district 34\")\n",
    "plt.plot(np.arange(100), market_share_dcs[4], lw=1, label=\"district 35\")\n",
    "plt.xlabel(\"SKU\")\n",
    "plt.ylabel(\"Sales\")\n",
    "plt.legend()"
   ]
  },
  {
   "cell_type": "code",
   "execution_count": 57,
   "metadata": {},
   "outputs": [
    {
     "data": {
      "text/plain": [
       "0.40928357776831736"
      ]
     },
     "execution_count": 57,
     "metadata": {},
     "output_type": "execute_result"
    }
   ],
   "source": [
    "np.mean(np.std(np.array(market_share_skus), axis=1) / market_share_mean)"
   ]
  },
  {
   "cell_type": "code",
   "execution_count": 58,
   "metadata": {},
   "outputs": [],
   "source": [
    "price_over_skus = sample_orders.groupby('sku_ID').mean()['original_unit_price'].to_dict()"
   ]
  },
  {
   "cell_type": "code",
   "execution_count": 90,
   "metadata": {},
   "outputs": [
    {
     "data": {
      "text/plain": [
       "20.69686079191923"
      ]
     },
     "execution_count": 90,
     "metadata": {},
     "output_type": "execute_result"
    }
   ],
   "source": [
    "np.mean(list(price_over_skus.values())) * 0.2"
   ]
  },
  {
   "cell_type": "code",
   "execution_count": 93,
   "metadata": {},
   "outputs": [
    {
     "data": {
      "text/plain": [
       "297.2682926829268"
      ]
     },
     "execution_count": 93,
     "metadata": {},
     "output_type": "execute_result"
    }
   ],
   "source": [
    "price_over_skus['068f4481b3']"
   ]
  },
  {
   "cell_type": "code",
   "execution_count": 61,
   "metadata": {},
   "outputs": [
    {
     "data": {
      "text/plain": [
       "(array([ 1.,  2.,  0.,  3.,  1.,  2.,  8., 15., 20.,  7.,  3.,  6.,  3.,\n",
       "         4.,  1.,  2.,  4.,  5.,  1.,  1.,  1.,  1.,  1.,  0.,  1.,  1.,\n",
       "         0.,  0.,  0.,  1.,  1.,  0.,  0.,  0.,  0.,  0.,  1.,  2.,  0.,\n",
       "         1.]),\n",
       " array([ 12.        ,  19.71923077,  27.43846154,  35.15769231,\n",
       "         42.87692308,  50.59615385,  58.31538462,  66.03461538,\n",
       "         73.75384615,  81.47307692,  89.19230769,  96.91153846,\n",
       "        104.63076923, 112.35      , 120.06923077, 127.78846154,\n",
       "        135.50769231, 143.22692308, 150.94615385, 158.66538462,\n",
       "        166.38461538, 174.10384615, 181.82307692, 189.54230769,\n",
       "        197.26153846, 204.98076923, 212.7       , 220.41923077,\n",
       "        228.13846154, 235.85769231, 243.57692308, 251.29615385,\n",
       "        259.01538462, 266.73461538, 274.45384615, 282.17307692,\n",
       "        289.89230769, 297.61153846, 305.33076923, 313.05      ,\n",
       "        320.76923077]),\n",
       " <BarContainer object of 40 artists>)"
      ]
     },
     "execution_count": 61,
     "metadata": {},
     "output_type": "execute_result"
    },
    {
     "data": {
      "image/png": "[encoded data removed]",
      "text/plain": [
       "<Figure size 432x288 with 1 Axes>"
      ]
     },
     "metadata": {
      "needs_background": "light"
     },
     "output_type": "display_data"
    }
   ],
   "source": [
    "plt.hist(price_over_skus.values(), bins=40)"
   ]
  },
  {
   "cell_type": "markdown",
   "metadata": {},
   "source": [
    "We generate demand scenarios"
   ]
  },
  {
   "cell_type": "code",
   "execution_count": 9,
   "metadata": {},
   "outputs": [],
   "source": [
    "demand_dist = {}\n",
    "for i in sample_dcs:\n",
    "    for k in sample_skus:\n",
    "        hist = []\n",
    "        for d in range(1, 32):\n",
    "            if d <= 9:\n",
    "                date = '2018-03-0' + str(d)\n",
    "            else:\n",
    "                date = '2018-03-' + str(d)\n",
    "            hist.append(len(sample_orders[(sample_orders['dc_des'] == i) & (sample_orders['sku_ID'] == k) & (sample_orders['order_date'] == date)]))\n",
    "            \n",
    "        demand_dist[i, k] = (np.mean(hist), np.std(hist))"
   ]
  },
  {
   "cell_type": "code",
   "execution_count": 10,
   "metadata": {},
   "outputs": [],
   "source": [
    "total_demand = sum(demand_over_skus.values()) \n",
    "T = int((np.ceil(total_demand / 1000)) * 1000) \n",
    "sku_freq = []\n",
    "for k in sample_skus:\n",
    "    if k in demand_over_skus:\n",
    "        sku_freq.append(demand_over_skus[k] / T)\n",
    "    else:\n",
    "        sku_freq.append(0)\n",
    "dc_freq = [demand_over_dcs[dc] / total_demand for dc in sample_dcs]\n",
    "multinomial_sku = [1 - sum(sku_freq)] + sku_freq\n",
    "multinomial_dc = dc_freq"
   ]
  },
  {
   "cell_type": "code",
   "execution_count": 11,
   "metadata": {},
   "outputs": [],
   "source": [
    "N = 1000\n",
    "demand_scenarios = []\n",
    "demand_scenarios_agg = []\n",
    "\n",
    "for n in range(N):\n",
    "    skus = np.random.choice(['NA'] + sample_skus, T, p=multinomial_sku)\n",
    "    dcs = np.random.choice(sample_dcs, T, p=multinomial_dc)\n",
    "    sample = list(zip(skus, dcs))\n",
    "        \n",
    "    demand_scenarios.append(sample)\n",
    "\n",
    "#     D = {}\n",
    "#     for i in sample_dcs:\n",
    "#         for k in sample_skus:\n",
    "#             D[k, i] = max(int(sum(np.random.normal(demand_dist[i, k][0], demand_dist[i, k][1], 7))), 0)\n",
    "#     demand_scenarios_agg.append(D)\n",
    "\n",
    "expected = {}\n",
    "for k in range(len(sku_freq)):\n",
    "    for i in range(len(dc_freq)):\n",
    "        expected[sample_skus[k], sample_dcs[i]] = T * sku_freq[k] * dc_freq[i]    "
   ]
  },
  {
   "cell_type": "markdown",
   "metadata": {},
   "source": [
    "## Model Formulation"
   ]
  },
  {
   "cell_type": "code",
   "execution_count": 17,
   "metadata": {},
   "outputs": [],
   "source": [
    "def optimize(S, D): \n",
    "    model = Model('model')\n",
    "    model.setParam(\"LogToConsole\", 0)\n",
    "\n",
    "    fulfill = model.addVars(((k, i, j) for k in sample_skus for i in supply for j in demand), vtype=GRB.CONTINUOUS, name='fulfill')\n",
    "\n",
    "    model.setObjective(sum(fulfill[k, i, j] * cost[k, i, j] for k, i, j in fulfill), GRB.MINIMIZE)\n",
    "\n",
    "    for k in sample_skus:\n",
    "        for i in supply:\n",
    "            model.addConstr(fulfill.sum(k, i, '*') <= S[k, i], name='supply_%s_%s' % (k, i))\n",
    "\n",
    "        for j in demand:\n",
    "            model.addConstr(fulfill.sum(k, '*', j) == D[k, j], name='demand_%s_%s' % (k, j))\n",
    "\n",
    "    model.optimize()\n",
    "    \n",
    "    return model, fulfill\n",
    "\n",
    "def optimize_k(k, S, D): \n",
    "    model = Model('model_1')\n",
    "    model.setParam(\"LogToConsole\", 0)\n",
    "\n",
    "    fulfill = model.addVars([(i, j) for i in supply for j in demand], vtype=GRB.CONTINUOUS, name='fulfill_1')\n",
    "\n",
    "    model.setObjective(sum(fulfill[i, j] * cost[k, i, j] for i, j in fulfill), GRB.MINIMIZE)\n",
    "\n",
    "    for i in supply:\n",
    "        model.addConstr(sum(fulfill[i, j] for j in demand) <= S[k, i], name='supply_%s_%s' % (k, i))\n",
    "\n",
    "    for j in demand:\n",
    "        model.addConstr(sum(fulfill[i, j] for i in supply) == D[k, j])\n",
    "\n",
    "    model.optimize()\n",
    "    \n",
    "    return model, fulfill\n",
    "\n",
    "def optimize_revenue(S, D): \n",
    "    model = Model('model_2')\n",
    "    model.setParam(\"LogToConsole\", 0)\n",
    "\n",
    "    fulfill = model.addVars(((k, i, j) for k in sample_skus for i in sample_dcs for j in sample_dcs), vtype=GRB.CONTINUOUS, name='fulfill')\n",
    "\n",
    "    model.setObjective(sum(fulfill[k, i, j] * (revenue[k] - cost[k, i, j]) for k, i, j in fulfill), GRB.MAXIMIZE)\n",
    "\n",
    "    for k in sample_skus:\n",
    "        for i in sample_dcs:\n",
    "            model.addConstr(fulfill.sum(k, i, '*') <= S[k, i], name='supply_%s_%s' % (k, i))\n",
    "\n",
    "        for j in sample_dcs:\n",
    "            model.addConstr(fulfill.sum(k, '*', j) <= D[k, j], name='demand_%s_%s' % (k, j))\n",
    "\n",
    "    model.optimize()\n",
    "    obj = model.objVal\n",
    "    \n",
    "    return model, fulfill, obj"
   ]
  },
  {
   "cell_type": "code",
   "execution_count": 27,
   "metadata": {},
   "outputs": [],
   "source": [
    "import cvxpy as cp\n",
    "import numpy as np\n",
    "\n",
    "def ls(old_y, old_z, z2y, assortment, card):\n",
    "    y = cp.Variable(len(old_y))\n",
    "    z = cp.Variable(len(old_z))\n",
    "    A = np.zeros((3 * len(old_z), len(old_z)))\n",
    "    B = np.zeros((3 * len(old_z), len(old_y)))\n",
    "    C = np.zeros(3 * len(old_z))\n",
    "    D = np.zeros((len(old_y), len(old_y)))\n",
    "    E = np.zeros(len(old_y))\n",
    "\n",
    "    # monotone for each report value\n",
    "    for i in range(len(old_z)):\n",
    "        A[3 * i, i] = 1.0\n",
    "        B[3 * i, z2y[i][0]] = 1.0\n",
    "        \n",
    "        A[3 * i + 1, i] = 1.0\n",
    "        B[3 * i + 1, z2y[i][1]] = 1.0\n",
    "        \n",
    "        A[3 * i + 2, i] = -1.0\n",
    "        B[3 * i + 2, [z2y[i][0], z2y[i][1]]] = [-1.0, -1.0]\n",
    "        C[3 * i + 2] = 1.0\n",
    "    \n",
    "    for j in range(len(assortment)):\n",
    "        k = assortment[j]-1\n",
    "        D[k, k] = 1.0\n",
    "        E[k] = 1.0\n",
    "\n",
    "    # define and solve the CVXPY problem.\n",
    "    objective = cp.sum_squares(y - old_y) + cp.sum_squares(z - old_z)\n",
    "    \n",
    "    model = cp.Problem(cp.Minimize(objective),[A@z <= B@y + C, D@y == E, cp.sum(y) <= card, y >= np.zeros(len(old_y)), z >= np.zeros(len(old_z))])\n",
    "    model.solve()\n",
    "    res_y = y.value\n",
    "    res_z = z.value\n",
    "    obj = model.value\n",
    "    \n",
    "    return np.round(res_y, 4), np.round(res_z, 4), np.round(obj, 4)"
   ]
  },
  {
   "cell_type": "markdown",
   "metadata": {},
   "source": [
    "We simulate online fulfillment"
   ]
  },
  {
   "cell_type": "code",
   "execution_count": 561,
   "metadata": {},
   "outputs": [
    {
     "name": "stdout",
     "output_type": "stream",
     "text": [
      "---iter 0---\n",
      "12206.0\n",
      "---iter 1---\n",
      "12572.0\n",
      "---iter 2---\n",
      "12368.0\n",
      "---iter 3---\n",
      "12572.0\n",
      "---iter 4---\n",
      "12534.0\n",
      "---iter 5---\n",
      "12356.0\n",
      "---iter 6---\n",
      "12336.0\n",
      "---iter 7---\n",
      "12430.0\n",
      "---iter 8---\n",
      "12390.0\n",
      "---iter 9---\n",
      "12154.0\n"
     ]
    }
   ],
   "source": [
    "offline_value, online_value, online_value_greedy = [], [], []\n",
    "offline_fulfill, online_fulfill = defaultdict(int), defaultdict(int)\n",
    "\n",
    "np.random.seed(1234)\n",
    "for _iter in range(10):    \n",
    "    print('---iter ' + str(_iter) + '---')\n",
    "    sample_path = demand_scenarios[_iter]\n",
    "    \n",
    "    #offline\n",
    "    D = collections.defaultdict(int)\n",
    "    for pair in sample_path:\n",
    "        k, i = pair[0], pair[1]\n",
    "        D[k, i] += 1\n",
    "\n",
    "    #D = demand_scenarios_agg[_iter]\n",
    "    model, fulfill = optimize(S_init, D)\n",
    "    offline_value.append(model.getAttr('objVal'))\n",
    "        \n",
    "    print(offline_value[_iter])\n",
    "    \n",
    "    # online \n",
    "    obj_bayes = 0\n",
    "    obj_greedy = 0\n",
    "    S_bayes = deepcopy(S_init)\n",
    "    S_greedy = deepcopy(S_init)\n",
    "#     for t in range(T): \n",
    "#         # serve demand\n",
    "#         d = sample_path[t]\n",
    "#         if d[0] != 'NA':\n",
    "#             ### greedy \n",
    "#             i = sorted([(i, cost[d[0], i, d[1]]) for i in supply if S_greedy[d[0], i] >= 1], key=lambda x:x[1])[0][0]\n",
    "#             obj_greedy += cost[d[0], i, d[1]]\n",
    "#             S_greedy[d[0], i] -= 1            \n",
    "            \n",
    "            \n",
    "#             ### bayes selector          \n",
    "#             if t == 0:\n",
    "#                 D = collections.defaultdict(int)\n",
    "#                 for k in sample_skus:\n",
    "#                     for j in sample_dcs:\n",
    "#                         D[k, j] = (T-t) * sku_freq_first[sample_skus.index(k)] * dc_freq_first[sample_dcs.index(j)]\n",
    "                \n",
    "#                 model, fulfill = optimize(S_bayes, D)\n",
    "#                 _fulfill = model.getAttr('X', fulfill)\n",
    "\n",
    "#                 policy = {}\n",
    "#                 for k in sample_skus:\n",
    "#                     for j in demand:\n",
    "#                         flow = sorted([(i, _fulfill[k, i, j]) for i in supply], key=lambda x:x[1], reverse=True)\n",
    "#                         policy[k, j] = flow[0][0]\n",
    "            \n",
    "#             elif t % 1 == 0:\n",
    "#                 D = collections.defaultdict(int)\n",
    "#                 for k in sample_skus:\n",
    "#                     for j in sample_dcs:\n",
    "#                         D[k, j] = (T-t) * sku_freq_first[sample_skus.index(k)] * dc_freq_first[sample_dcs.index(j)]                      \n",
    "                \n",
    "#                 model, fulfill = optimize_k(d[0], S_bayes, D)\n",
    "#                 _fulfill = model.getAttr('X', fulfill)\n",
    "#                 policy[d] = sorted([(i, _fulfill[i, d[1]]) for i in supply], key=lambda x:x[1], reverse=True)[0][0]         \n",
    "                        \n",
    "#             i = policy[d]\n",
    "                     \n",
    "#             if S_bayes[d[0], i] >= 1:\n",
    "#                 obj_bayes += cost[d[0], i, d[1]]\n",
    "#                 S_bayes[d[0], i] -= 1\n",
    "#                 online_fulfill[(d[0], i, d[1])] += 1\n",
    "#             else: \n",
    "#                 obj_bayes += cost[d[0], 0, d[1]]\n",
    "#                 S_bayes[d[0], 0] -= 1\n",
    "            \n",
    "#     print(obj_bayes)\n",
    "#     print(obj_greedy)\n",
    "#     online_value.append(obj_bayes)\n",
    "#     online_value_greedy.append(obj_greedy)\n",
    "    \n",
    "#     for i in supply[1:]:\n",
    "#         res = []\n",
    "#         for k in sample_skus:\n",
    "#             res.append(int(S_bayes[k, i]))\n",
    "#         print(i, res)\n",
    "#     print('------------------')\n",
    "    "
   ]
  },
  {
   "cell_type": "code",
   "execution_count": 562,
   "metadata": {},
   "outputs": [
    {
     "name": "stderr",
     "output_type": "stream",
     "text": [
      "/home/nitu/anaconda3/lib/python3.6/site-packages/numpy/core/fromnumeric.py:3118: RuntimeWarning: Mean of empty slice.\n",
      "  out=out, **kwargs)\n",
      "/home/nitu/anaconda3/lib/python3.6/site-packages/numpy/core/_methods.py:85: RuntimeWarning: invalid value encountered in double_scalars\n",
      "  ret = ret.dtype.type(ret / rcount)\n"
     ]
    },
    {
     "data": {
      "text/plain": [
       "(12391.8, nan, nan)"
      ]
     },
     "execution_count": 562,
     "metadata": {},
     "output_type": "execute_result"
    }
   ],
   "source": [
    "np.mean(offline_value), np.mean(online_value), np.mean(online_value_greedy)"
   ]
  },
  {
   "cell_type": "markdown",
   "metadata": {},
   "source": [
    "# Figures"
   ]
  },
  {
   "cell_type": "code",
   "execution_count": 2,
   "metadata": {},
   "outputs": [],
   "source": [
    "upper = [34827, 41639, 44476, 45551, 45741, 45775, 45787]"
   ]
  },
  {
   "cell_type": "code",
   "execution_count": 3,
   "metadata": {},
   "outputs": [],
   "source": [
    "tmp = [34805, 41591, 44165, 44734, 44813, 44829, 44830]"
   ]
  },
  {
   "cell_type": "code",
   "execution_count": 4,
   "metadata": {},
   "outputs": [],
   "source": [
    "card = [10, 20, 30, 40, 50, 60, 70]"
   ]
  },
  {
   "cell_type": "code",
   "execution_count": 5,
   "metadata": {},
   "outputs": [
    {
     "data": {
      "image/png": "[encoded data removed]",
      "text/plain": [
       "<Figure size 432x288 with 1 Axes>"
      ]
     },
     "metadata": {
      "needs_background": "light"
     },
     "output_type": "display_data"
    }
   ],
   "source": [
    "fig, ax = plt.subplots()\n",
    "plt.plot(card, upper, label=r\"$\\overline{Z}$\")\n",
    "plt.plot(card, tmp, label=r\"${Z}^{\\dag}$\")\n",
    "plt.xlabel(r\"Depth($\\rho$)\")\n",
    "plt.ylabel(\"Profit\")\n",
    "plt.ylim([33000, 47000])\n",
    "ax.spines['top'].set_visible(False)\n",
    "ax.spines['right'].set_visible(False)\n",
    "plt.legend()\n",
    "plt.savefig(\"profit_depth.pdf\")"
   ]
  },
  {
   "cell_type": "code",
   "execution_count": 49,
   "metadata": {},
   "outputs": [],
   "source": [
    "upper = [36688, 39888, 43088, 45551, 46228, 46516, 46716]"
   ]
  },
  {
   "cell_type": "code",
   "execution_count": 50,
   "metadata": {},
   "outputs": [],
   "source": [
    "tmp = [36661, 39836, 42079, 44734, 45862, 46349, 46662]"
   ]
  },
  {
   "cell_type": "code",
   "execution_count": 51,
   "metadata": {},
   "outputs": [],
   "source": [
    "capa = [0.02, 0.03, 0.04, 0.05, 0.06, 0.07, 0.08]"
   ]
  },
  {
   "cell_type": "code",
   "execution_count": 52,
   "metadata": {},
   "outputs": [
    {
     "data": {
      "image/png": "[encoded data removed]",
      "text/plain": [
       "<Figure size 432x288 with 1 Axes>"
      ]
     },
     "metadata": {
      "needs_background": "light"
     },
     "output_type": "display_data"
    }
   ],
   "source": [
    "fig, ax = plt.subplots()\n",
    "plt.plot(capa, upper, label=r\"$\\overline{Z}$\")\n",
    "plt.plot(capa, tmp, label=r\"${Z}^{\\dag}$\")\n",
    "plt.xlabel(r\"Capacity($\\alpha$)\")\n",
    "plt.ylabel(\"Profit\")\n",
    "plt.ylim([35000, 47000])\n",
    "ax.spines['top'].set_visible(False)\n",
    "ax.spines['right'].set_visible(False)\n",
    "plt.legend()\n",
    "plt.savefig(\"profit_capa.pdf\")"
   ]
  },
  {
   "cell_type": "code",
   "execution_count": 53,
   "metadata": {},
   "outputs": [],
   "source": [
    "upper = [45551, 45595, 45595, 45595, 45595]"
   ]
  },
  {
   "cell_type": "code",
   "execution_count": 54,
   "metadata": {},
   "outputs": [],
   "source": [
    "tmp = [44734, 45332, 45337, 45341, 45342]"
   ]
  },
  {
   "cell_type": "code",
   "execution_count": 55,
   "metadata": {},
   "outputs": [],
   "source": [
    "network = [\"default\", \"+ 2-chain\", \"+ 3chain\", \"+ 4-chain\", \"+ 5-chain\"]"
   ]
  },
  {
   "cell_type": "code",
   "execution_count": 57,
   "metadata": {},
   "outputs": [
    {
     "data": {
      "image/png": "[encoded data removed]",
      "text/plain": [
       "<Figure size 432x288 with 1 Axes>"
      ]
     },
     "metadata": {
      "needs_background": "light"
     },
     "output_type": "display_data"
    }
   ],
   "source": [
    "fig, ax = plt.subplots()\n",
    "plt.plot(network, upper, label=r\"$\\overline{Z}$\")\n",
    "plt.plot(network, tmp, label=r\"${Z}^{\\dag}$\")\n",
    "plt.xlabel(r\"Capacity($\\alpha$)\")\n",
    "plt.ylabel(\"Profit\")\n",
    "plt.ylim([39000, 47000])\n",
    "ax.spines['top'].set_visible(False)\n",
    "ax.spines['right'].set_visible(False)\n",
    "plt.legend()\n",
    "plt.savefig(\"profit_network.pdf\")"
   ]
  }
 ],
 "metadata": {
  "kernelspec": {
   "display_name": "Python 3",
   "language": "python",
   "name": "python3"
  },
  "language_info": {
   "codemirror_mode": {
    "name": "ipython",
    "version": 3
   },
   "file_extension": ".py",
   "mimetype": "text/x-python",
   "name": "python",
   "nbconvert_exporter": "python",
   "pygments_lexer": "ipython3",
   "version": "3.8.8"
  }
 },
 "nbformat": 4,
 "nbformat_minor": 4
}
