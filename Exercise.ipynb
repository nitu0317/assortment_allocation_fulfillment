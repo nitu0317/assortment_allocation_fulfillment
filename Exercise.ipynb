{
 "cells": [
  {
   "cell_type": "code",
   "execution_count": 1,
   "metadata": {},
   "outputs": [],
   "source": [
    "import pandas as pd\n",
    "import numpy as np\n",
    "import datetime as dt\n",
    "from gurobipy import *\n",
    "from matplotlib import pyplot as plt\n",
    "import collections\n",
    "from copy import *\n",
    "from IPython.display import HTML\n",
    "from IPython.display import display\n",
    "from collections import *"
   ]
  },
  {
   "cell_type": "code",
   "execution_count": 2,
   "metadata": {},
   "outputs": [],
   "source": [
    "# 'skus' table\n",
    "skus = pd.read_csv('JD_sku_data.csv')\n",
    "# 'orders' table\n",
    "orders = pd.read_csv('JD_order_data.csv')\n",
    "# 'delivery' table\n",
    "delivery = pd.read_csv('JD_delivery_data.csv')\n",
    "# 'inventory' table\n",
    "inventory = pd.read_csv('JD_inventory_data.csv')\n",
    "# 'network' table\n",
    "network = pd.read_csv('JD_network_data.csv')"
   ]
  },
  {
   "cell_type": "markdown",
   "metadata": {},
   "source": [
    "# Data Processing"
   ]
  },
  {
   "cell_type": "markdown",
   "metadata": {},
   "source": [
    "We consider one region as instance"
   ]
  },
  {
   "cell_type": "code",
   "execution_count": 3,
   "metadata": {
    "scrolled": true
   },
   "outputs": [
    {
     "data": {
      "text/plain": [
       "[3, 14, 33, 34, 35, 64]"
      ]
     },
     "execution_count": 3,
     "metadata": {},
     "output_type": "execute_result"
    }
   ],
   "source": [
    "sample_dcs = sorted(network[network['region_ID'] == 3]['dc_ID'].tolist())\n",
    "sample_dcs"
   ]
  },
  {
   "cell_type": "code",
   "execution_count": 4,
   "metadata": {},
   "outputs": [],
   "source": [
    "orders_in_sample_dcs = orders[(orders['dc_des'].isin(sample_dcs)) & (orders['order_date'] <= '2018-03-31')]"
   ]
  },
  {
   "cell_type": "code",
   "execution_count": 5,
   "metadata": {},
   "outputs": [],
   "source": [
    "skus_in_sample_dcs = orders_in_sample_dcs.groupby('sku_ID').count()['order_ID'].to_dict()"
   ]
  },
  {
   "cell_type": "markdown",
   "metadata": {},
   "source": [
    "We present SKUs which are out of inventory"
   ]
  },
  {
   "cell_type": "code",
   "execution_count": 6,
   "metadata": {},
   "outputs": [],
   "source": [
    "no_inventory = defaultdict(list)\n",
    "for dc in sample_dcs:\n",
    "    for sku in skus_in_sample_dcs:\n",
    "        if len(inventory[(inventory['dc_ID'] == dc) & (inventory['sku_ID'] == sku)]) == 0:\n",
    "            no_inventory[dc].append(sku)"
   ]
  },
  {
   "cell_type": "code",
   "execution_count": 7,
   "metadata": {},
   "outputs": [
    {
     "data": {
      "text/plain": [
       "7.6503875968992245"
      ]
     },
     "execution_count": 7,
     "metadata": {},
     "output_type": "execute_result"
    }
   ],
   "source": [
    "np.mean(orders_in_sample_dcs[orders_in_sample_dcs['sku_ID'].isin(no_inventory[3])].groupby('sku_ID').count()['order_ID'])"
   ]
  },
  {
   "cell_type": "code",
   "execution_count": 8,
   "metadata": {},
   "outputs": [
    {
     "data": {
      "text/plain": [
       "33606"
      ]
     },
     "execution_count": 8,
     "metadata": {},
     "output_type": "execute_result"
    }
   ],
   "source": [
    "len(orders_in_sample_dcs)\n",
    "#len(skus_in_sample_dcs)"
   ]
  },
  {
   "cell_type": "code",
   "execution_count": 9,
   "metadata": {},
   "outputs": [
    {
     "data": {
      "text/plain": [
       "2745.0"
      ]
     },
     "execution_count": 9,
     "metadata": {},
     "output_type": "execute_result"
    }
   ],
   "source": [
    "np.mean([len(no_inventory[i]) for i in sample_dcs[1:]])"
   ]
  },
  {
   "cell_type": "markdown",
   "metadata": {},
   "source": [
    "We present fulfillment details"
   ]
  },
  {
   "cell_type": "code",
   "execution_count": 10,
   "metadata": {},
   "outputs": [],
   "source": [
    "orders_fulfill_region = orders_in_sample_dcs[(orders_in_sample_dcs['dc_ori'].isin(sample_dcs)) & (orders_in_sample_dcs['dc_des'].isin(sample_dcs))]"
   ]
  },
  {
   "cell_type": "code",
   "execution_count": 11,
   "metadata": {},
   "outputs": [],
   "source": [
    "orders_fulfill_local = orders_fulfill_region[(orders_fulfill_region['dc_ori'] == orders_fulfill_region['dc_des'])]"
   ]
  },
  {
   "cell_type": "code",
   "execution_count": 12,
   "metadata": {},
   "outputs": [],
   "source": [
    "orders_fulfill_backup = orders_fulfill_region[(orders_fulfill_region['dc_ori'] == 3) & (orders_fulfill_region['dc_des'] != 3)]"
   ]
  },
  {
   "cell_type": "code",
   "execution_count": 13,
   "metadata": {},
   "outputs": [
    {
     "data": {
      "text/plain": [
       "(13002, 5877, 6525)"
      ]
     },
     "execution_count": 13,
     "metadata": {},
     "output_type": "execute_result"
    }
   ],
   "source": [
    "len(orders_fulfill_region), len(orders_fulfill_local), len(orders_fulfill_backup)"
   ]
  },
  {
   "cell_type": "markdown",
   "metadata": {},
   "source": [
    "We start with SKUs in small scale"
   ]
  },
  {
   "cell_type": "code",
   "execution_count": 540,
   "metadata": {},
   "outputs": [],
   "source": [
    "sample_skus = [k for k, v in skus_in_sample_dcs.items() if 4000 >= v >= 800 or 200 >= v >= 180 or 40 >= v >= 38]"
   ]
  },
  {
   "cell_type": "markdown",
   "metadata": {},
   "source": [
    "We can also consider those SKUs fulfilled within the region in large scale"
   ]
  },
  {
   "cell_type": "code",
   "execution_count": 11,
   "metadata": {},
   "outputs": [],
   "source": [
    "sample_skus = [k for k, v in skus_in_sample_dcs.items() if k not in no_inventory[3]]"
   ]
  },
  {
   "cell_type": "markdown",
   "metadata": {},
   "source": [
    "We choose top SKUs "
   ]
  },
  {
   "cell_type": "code",
   "execution_count": 42,
   "metadata": {},
   "outputs": [],
   "source": [
    "demand_over_skus = orders_in_sample_dcs.groupby('sku_ID').count()['order_ID'].to_dict()\n",
    "sample_skus = [i for i, j in sorted(demand_over_skus.items(), key = lambda kv: kv[1], reverse=True)]\n",
    "sample_skus = sample_skus[:200]"
   ]
  },
  {
   "cell_type": "code",
   "execution_count": 43,
   "metadata": {},
   "outputs": [],
   "source": [
    "sample_orders = orders_in_sample_dcs[orders_in_sample_dcs['sku_ID'].isin(sample_skus)]\n",
    "demand_over_skus = sample_orders.groupby('sku_ID').count()['order_ID'].to_dict()\n",
    "demand_over_dcs = sample_orders.groupby('dc_des').count()['order_ID'].to_dict()\n",
    "sample_skus = [i for i, j in sorted(demand_over_skus.items(), key = lambda kv: kv[1], reverse=True)]"
   ]
  },
  {
   "cell_type": "code",
   "execution_count": 44,
   "metadata": {},
   "outputs": [],
   "source": [
    "demand_over_skus_list = sorted(demand_over_skus.values(), reverse=True)"
   ]
  },
  {
   "cell_type": "code",
   "execution_count": 2,
   "metadata": {},
   "outputs": [
    {
     "ename": "NameError",
     "evalue": "name 'plt' is not defined",
     "output_type": "error",
     "traceback": [
      "\u001b[0;31m---------------------------------------------------------------------------\u001b[0m",
      "\u001b[0;31mNameError\u001b[0m                                 Traceback (most recent call last)",
      "\u001b[0;32m<ipython-input-2-ab86acd89699>\u001b[0m in \u001b[0;36m<module>\u001b[0;34m\u001b[0m\n\u001b[0;32m----> 1\u001b[0;31m \u001b[0mplt\u001b[0m\u001b[0;34m.\u001b[0m\u001b[0mfigure\u001b[0m\u001b[0;34m(\u001b[0m\u001b[0mfigsize\u001b[0m\u001b[0;34m=\u001b[0m\u001b[0;34m(\u001b[0m\u001b[0;36m8\u001b[0m\u001b[0;34m,\u001b[0m \u001b[0;36m6\u001b[0m\u001b[0;34m)\u001b[0m\u001b[0;34m,\u001b[0m \u001b[0mdpi\u001b[0m\u001b[0;34m=\u001b[0m\u001b[0;36m80\u001b[0m\u001b[0;34m)\u001b[0m\u001b[0;34m\u001b[0m\u001b[0;34m\u001b[0m\u001b[0m\n\u001b[0m\u001b[1;32m      2\u001b[0m \u001b[0mplt\u001b[0m\u001b[0;34m.\u001b[0m\u001b[0mplot\u001b[0m\u001b[0;34m(\u001b[0m\u001b[0mnp\u001b[0m\u001b[0;34m.\u001b[0m\u001b[0marange\u001b[0m\u001b[0;34m(\u001b[0m\u001b[0;36m1\u001b[0m\u001b[0;34m,\u001b[0m \u001b[0;36m201\u001b[0m\u001b[0;34m)\u001b[0m\u001b[0;34m,\u001b[0m \u001b[0mdemand_over_skus_list\u001b[0m\u001b[0;34m)\u001b[0m\u001b[0;34m\u001b[0m\u001b[0;34m\u001b[0m\u001b[0m\n\u001b[1;32m      3\u001b[0m \u001b[0mplt\u001b[0m\u001b[0;34m.\u001b[0m\u001b[0mxticks\u001b[0m\u001b[0;34m(\u001b[0m\u001b[0;34m[\u001b[0m\u001b[0;36m1\u001b[0m\u001b[0;34m]\u001b[0m \u001b[0;34m+\u001b[0m \u001b[0mlist\u001b[0m\u001b[0;34m(\u001b[0m\u001b[0mnp\u001b[0m\u001b[0;34m.\u001b[0m\u001b[0marange\u001b[0m\u001b[0;34m(\u001b[0m\u001b[0;36m20\u001b[0m\u001b[0;34m,\u001b[0m \u001b[0;36m201\u001b[0m\u001b[0;34m,\u001b[0m \u001b[0;36m20\u001b[0m\u001b[0;34m)\u001b[0m\u001b[0;34m)\u001b[0m\u001b[0;34m)\u001b[0m\u001b[0;34m\u001b[0m\u001b[0;34m\u001b[0m\u001b[0m\n\u001b[1;32m      4\u001b[0m \u001b[0mplt\u001b[0m\u001b[0;34m.\u001b[0m\u001b[0mxlabel\u001b[0m\u001b[0;34m(\u001b[0m\u001b[0;34m'sku_ID'\u001b[0m\u001b[0;34m)\u001b[0m\u001b[0;34m\u001b[0m\u001b[0;34m\u001b[0m\u001b[0m\n\u001b[1;32m      5\u001b[0m \u001b[0mplt\u001b[0m\u001b[0;34m.\u001b[0m\u001b[0mylabel\u001b[0m\u001b[0;34m(\u001b[0m\u001b[0;34m'orders'\u001b[0m\u001b[0;34m)\u001b[0m\u001b[0;34m\u001b[0m\u001b[0;34m\u001b[0m\u001b[0m\n",
      "\u001b[0;31mNameError\u001b[0m: name 'plt' is not defined"
     ]
    }
   ],
   "source": [
    "plt.plot(np.arange(1, 201), demand_over_skus_list)\n",
    "plt.xticks([1] + list(np.arange(20, 201, 20)))\n",
    "plt.xlabel('sku_ID')\n",
    "plt.ylabel('orders')\n",
    "ax.spines['top'].set_visible(False)\n",
    "ax.spines['right'].set_visible(False)\n",
    "plt.savefig('demand_over_skus.pdf')"
   ]
  },
  {
   "cell_type": "markdown",
   "metadata": {},
   "source": [
    "We analyze the demand"
   ]
  },
  {
   "cell_type": "code",
   "execution_count": 145,
   "metadata": {},
   "outputs": [],
   "source": [
    "demand_dist = {}\n",
    "for i in sample_dcs:\n",
    "    for k in sample_skus:\n",
    "        hist = []\n",
    "        for d in range(1, 32):\n",
    "            if d <= 9:\n",
    "                date = '2018-03-0' + str(d)\n",
    "            else:\n",
    "                date = '2018-03-' + str(d)\n",
    "            hist.append(len(sample_orders[(sample_orders['dc_des'] == i) & (sample_orders['sku_ID'] == k) & (sample_orders['order_date'] == date)]))\n",
    "            \n",
    "        demand_dist[i, k] = (np.mean(hist), np.std(hist))"
   ]
  },
  {
   "cell_type": "code",
   "execution_count": 48,
   "metadata": {},
   "outputs": [],
   "source": [
    "sample_orders_first = sample_orders[sample_orders['order_date'] <= '2018-03-31']\n",
    "demand_over_dcs_first = sample_orders_first.groupby('dc_des').count()['order_ID'].to_dict()\n",
    "demand_over_skus_first = sample_orders_first.groupby('sku_ID').count()['order_ID'].to_dict()"
   ]
  },
  {
   "cell_type": "code",
   "execution_count": 49,
   "metadata": {},
   "outputs": [
    {
     "data": {
      "text/plain": [
       "{3: 2216, 14: 549, 33: 7384, 34: 4263, 35: 4131, 64: 3690}"
      ]
     },
     "execution_count": 49,
     "metadata": {},
     "output_type": "execute_result"
    }
   ],
   "source": [
    "demand_over_dcs = sample_orders.groupby('dc_des').count()['order_ID'].to_dict()\n",
    "demand_over_dcs"
   ]
  },
  {
   "cell_type": "code",
   "execution_count": 50,
   "metadata": {},
   "outputs": [
    {
     "data": {
      "text/plain": [
       "{3: 427, 14: 138, 33: 2263, 34: 1095, 35: 1073, 64: 881}"
      ]
     },
     "execution_count": 50,
     "metadata": {},
     "output_type": "execute_result"
    }
   ],
   "source": [
    "local_fulfill_over_dcs = orders_fulfill_local.groupby('dc_des').count()['order_ID'].to_dict()\n",
    "local_fulfill_over_dcs"
   ]
  },
  {
   "cell_type": "code",
   "execution_count": 51,
   "metadata": {},
   "outputs": [
    {
     "data": {
      "text/plain": [
       "{14: 175, 33: 2326, 34: 1418, 35: 1360, 64: 1246, 3: 0}"
      ]
     },
     "execution_count": 51,
     "metadata": {},
     "output_type": "execute_result"
    }
   ],
   "source": [
    "backup_fulfill_over_dcs = orders_fulfill_backup.groupby('dc_des').count()['order_ID'].to_dict()\n",
    "backup_fulfill_over_dcs[3] = 0\n",
    "backup_fulfill_over_dcs"
   ]
  },
  {
   "cell_type": "code",
   "execution_count": 52,
   "metadata": {},
   "outputs": [],
   "source": [
    "region_fulfill_over_dcs = orders_fulfill_region.groupby('dc_des').count()['order_ID'].to_dict()\n",
    "flex_fulfill_over_dcs, cross_fulfill_over_dcs = {}, {}\n",
    "for i in sample_dcs:\n",
    "    flex_fulfill_over_dcs[i] = region_fulfill_over_dcs[i] - local_fulfill_over_dcs[i] - backup_fulfill_over_dcs[i]\n",
    "    cross_fulfill_over_dcs[i] = demand_over_dcs[i] - region_fulfill_over_dcs[i]"
   ]
  },
  {
   "cell_type": "code",
   "execution_count": 53,
   "metadata": {},
   "outputs": [],
   "source": [
    "local = [local_fulfill_over_dcs[i] for i in sample_dcs]\n",
    "backup = [backup_fulfill_over_dcs[i] for i in sample_dcs]\n",
    "spillover = [flex_fulfill_over_dcs[i] + backup_fulfill_over_dcs[i] for i in sample_dcs]\n",
    "cross = [cross_fulfill_over_dcs[i] for i in sample_dcs]"
   ]
  },
  {
   "cell_type": "code",
   "execution_count": 90,
   "metadata": {},
   "outputs": [
    {
     "data": {
      "image/png": "[encoded data removed]",
      "text/plain": [
       "<Figure size 432x288 with 1 Axes>"
      ]
     },
     "metadata": {
      "needs_background": "light"
     },
     "output_type": "display_data"
    }
   ],
   "source": [
    "label_list = sample_dcs\n",
    "fig, ax = plt.subplots()\n",
    "plt.bar(x=range(len(sample_dcs)), height=local, width=0.5, alpha=0.8, color='blue', label='local fulfill')\n",
    "plt.bar(x=range(len(sample_dcs)), height=spillover, width=0.5, color='gold', bottom=local, label='cross-district fulfill')\n",
    "#plt.bar(x=range(len(sample_dcs)), height=cross, width=0.5, color='gold', bottom=list(region_fulfill_over_dcs.values()), label='cross-region fulfill')\n",
    "plt.xticks([index for index in range(len(sample_dcs))], label_list)\n",
    "plt.xlabel('district_ID')\n",
    "plt.ylabel('orders')\n",
    "ax.spines['top'].set_visible(False)\n",
    "ax.spines['right'].set_visible(False)\n",
    "plt.legend()\n",
    "plt.savefig('fulfill_over_dcs.pdf')"
   ]
  },
  {
   "cell_type": "markdown",
   "metadata": {},
   "source": [
    "We generate demand scenarios"
   ]
  },
  {
   "cell_type": "code",
   "execution_count": 55,
   "metadata": {},
   "outputs": [],
   "source": [
    "total_demand_first = sum(demand_over_skus_first.values()) \n",
    "T_first = int((np.ceil(total_demand_first / 1000)) * 1000) \n",
    "sku_freq_first = []\n",
    "for k in sample_skus:\n",
    "    if k in demand_over_skus_first:\n",
    "        sku_freq_first.append(demand_over_skus_first[k] / T_first)\n",
    "    else:\n",
    "        sku_freq_first.append(0)\n",
    "dc_freq_first = [demand_over_dcs_first[dc] / total_demand_first for dc in sample_dcs]\n",
    "multinomial_sku_first = [1 - sum(sku_freq_first)] + sku_freq_first\n",
    "multinomial_dc_first = dc_freq_first"
   ]
  },
  {
   "cell_type": "code",
   "execution_count": 56,
   "metadata": {},
   "outputs": [],
   "source": [
    "N = 1000\n",
    "demand_scenarios = []\n",
    "demand_scenarios_agg = []\n",
    "T = int(T_first) \n",
    "\n",
    "for n in range(N):\n",
    "    skus = np.random.choice(['NA'] + sample_skus, T, p=multinomial_sku_first)\n",
    "    dcs = np.random.choice(sample_dcs, T, p=multinomial_dc_first)\n",
    "    sample = list(zip(skus, dcs))\n",
    "    \n",
    "#     skus = np.random.choice(['NA'] + sample_skus, T_second, p=multinomial_sku_second)\n",
    "#     dcs = np.random.choice(sample_dcs, T, p=multinomial_dc_second)\n",
    "#     sample_second = list(zip(skus, dcs))   \n",
    "    \n",
    "#     sample = sample + sample_second\n",
    "    \n",
    "    demand_scenarios.append(sample)\n",
    "\n",
    "#     D = {}\n",
    "#     for i in sample_dcs:\n",
    "#         for k in sample_skus:\n",
    "#             D[k, i] = max(int(sum(np.random.normal(demand_dist[i, k][0], demand_dist[i, k][1], 7))), 0)\n",
    "#     demand_scenarios_agg.append(D)\n",
    "\n",
    "expected = {}\n",
    "for k in range(len(sku_freq_first)):\n",
    "    for i in range(len(dc_freq_first)):\n",
    "        expected[sample_skus[k], sample_dcs[i]] = T * sku_freq_first[k] * dc_freq_first[i]\n",
    "        \n",
    "# for i in sample_dcs:\n",
    "#     for k in sample_skus:\n",
    "#         expected[k, i] = demand_dist[i, k][0] * 7"
   ]
  },
  {
   "cell_type": "markdown",
   "metadata": {},
   "source": [
    "We can also consider a special case "
   ]
  },
  {
   "cell_type": "code",
   "execution_count": 457,
   "metadata": {},
   "outputs": [],
   "source": [
    "# sample_dcs = ['A', 'B', 'C', 'D', 'E', 'F', 'G', 'H']\n",
    "# sample_skus = [i for i in range(1, 9)]\n",
    "\n",
    "sample_dcs = ['A', 'B', 'C', 'D']\n",
    "sample_skus = [i for i in range(1, 9)]"
   ]
  },
  {
   "cell_type": "code",
   "execution_count": 459,
   "metadata": {},
   "outputs": [],
   "source": [
    "N = 1000\n",
    "\n",
    "# T = 400\n",
    "# demand_scenarios = []\n",
    "# sku_freq = [1/len(sample_skus)] * len(sample_skus)\n",
    "# dc_freq = [1/len(sample_dcs)] * len(sample_dcs)\n",
    "\n",
    "# for n in range(N):\n",
    "#     skus = np.random.choice(sample_skus, T, p=sku_freq)\n",
    "#     dcs = np.random.choice(sample_dcs, T, p=dc_freq)\n",
    "#     sample = list(zip(skus, dcs))\n",
    "#     demand_scenarios.append(sample)\n",
    "    \n",
    "# expected = {}\n",
    "# for k in range(len(sku_freq)):\n",
    "#     for i in range(len(dc_freq)):\n",
    "#         expected[sample_skus[k], sample_dcs[i]] = T * sku_freq[k] * dc_freq[i]\n",
    "    \n",
    "    \n",
    "demand_scenarios = []\n",
    "sku_mean = np.arange(100, 120, 0.1)[::-1]\n",
    "sku_std = np.arange(0, 50, 5)[::-1]\n",
    "dc_freq = [1/len(sample_dcs)] * len(sample_dcs)\n",
    "\n",
    "for n in range(N):\n",
    "    skus = []\n",
    "    for k in sample_skus:\n",
    "        skus += [k] * int(max(0, np.random.normal(sku_mean[sample_skus.index(k)], sku_std[sample_skus.index(k)])))\n",
    "    skus = np.random.permutation(skus)    \n",
    "        \n",
    "    dcs = np.random.choice(sample_dcs, len(skus), p=dc_freq)\n",
    "    sample = list(zip(skus, dcs))\n",
    "    demand_scenarios.append(sample)  \n",
    "    \n",
    "expected = {}\n",
    "for k in range(len(sample_skus)):\n",
    "    for i in range(len(sample_dcs)):\n",
    "        expected[sample_skus[k], sample_dcs[i]] = sku_mean[k] * dc_freq[i]"
   ]
  },
  {
   "cell_type": "markdown",
   "metadata": {},
   "source": [
    "## Model Formulation"
   ]
  },
  {
   "cell_type": "code",
   "execution_count": 58,
   "metadata": {},
   "outputs": [],
   "source": [
    "def optimize(S, D): \n",
    "    model = Model('model')\n",
    "    model.setParam(\"LogToConsole\", 0)\n",
    "\n",
    "    fulfill = model.addVars(((k, i, j) for k in sample_skus for i in supply for j in demand), vtype=GRB.CONTINUOUS, name='fulfill')\n",
    "\n",
    "    model.setObjective(sum(fulfill[k, i, j] * cost[k, i, j] for k, i, j in fulfill), GRB.MINIMIZE)\n",
    "\n",
    "    for k in sample_skus:\n",
    "        for i in supply:\n",
    "            model.addConstr(fulfill.sum(k, i, '*') <= S[k, i], name='supply_%s_%s' % (k, i))\n",
    "\n",
    "        for j in demand:\n",
    "            model.addConstr(fulfill.sum(k, '*', j) == D[k, j], name='demand_%s_%s' % (k, j))\n",
    "\n",
    "    model.optimize()\n",
    "    \n",
    "    return model, fulfill\n",
    "\n",
    "def optimize_k(k, S, D): \n",
    "    model = Model('model_1')\n",
    "    model.setParam(\"LogToConsole\", 0)\n",
    "\n",
    "    fulfill = model.addVars([(i, j) for i in supply for j in demand], vtype=GRB.CONTINUOUS, name='fulfill_1')\n",
    "\n",
    "    model.setObjective(sum(fulfill[i, j] * cost[k, i, j] for i, j in fulfill), GRB.MINIMIZE)\n",
    "\n",
    "    for i in supply:\n",
    "        model.addConstr(sum(fulfill[i, j] for j in demand) <= S[k, i])\n",
    "\n",
    "    for j in demand:\n",
    "        model.addConstr(sum(fulfill[i, j] for i in supply) == D[k, j])\n",
    "\n",
    "    model.optimize()\n",
    "    \n",
    "    return model, fulfill\n",
    "\n",
    "def misp_k(k, S_init, D, _lambda, regu, critical): \n",
    "    model = Model()\n",
    "    model.setParam(\"LogToConsole\", 0)\n",
    "\n",
    "    #Z = model.addVars([i for i in supply[1:]], vtype=GRB.BINARY, name='indicator')\n",
    "    Z = model.addVars([i for i in supply[1:]], vtype=GRB.CONTINUOUS, name='penalty')\n",
    "    #Z = model.addVar(vtype=GRB.BINARY, name='indicator')\n",
    "    S = model.addVars([i for i in supply], vtype=GRB.CONTINUOUS, name='inventory')\n",
    "    F = model.addVars([(m, i, j) for m in range(len(D)) for i in supply for j in demand], vtype=GRB.CONTINUOUS, name='fulfill')\n",
    "    \n",
    "    allocation_cost = sum(S[i] * b for i in supply[1:])\n",
    "    fulfill_cost = sum(F[m, i, j] * cost[k, i, j] for m in range(len(D)) for i in supply for j in demand) / len(D)\n",
    "    penalty_cost = _lambda * sum(Z[i] for i in supply[1:])\n",
    "    #penalty_cost = _lambda * Z\n",
    "    \n",
    "    model.setObjective(allocation_cost + fulfill_cost + penalty_cost, GRB.MINIMIZE)\n",
    "\n",
    "    model.addConstr(S[0] == 10000)\n",
    "#     for i in supply[1:]:\n",
    "#         if i not in dc:\n",
    "#             model.addConstr(S[i] == S_init[k, i])\n",
    "    \n",
    "    for m in range(len(D)):\n",
    "        for i in supply:\n",
    "            model.addConstr(F.sum(m, i, '*') <= S[i])\n",
    "\n",
    "        for j in demand:\n",
    "            model.addConstr(F.sum(m, '*', j) == D[m][j])\n",
    "            \n",
    "    for i in supply[1:]:\n",
    "        #model.addConstr(S[i] <= 1000 * Z[i])\n",
    "        model.addConstr(Z[i] == min_(S[i], critical[i]))\n",
    "        \n",
    "    #model.addConstr(sum(S[i] for i in supply[1:]) <= 10000 * Z)\n",
    "        \n",
    "    model.optimize()\n",
    "    \n",
    "    S_k = model.getAttr('X', S)\n",
    "    #Z_k = model.getAttr('X', Z)\n",
    "    \n",
    "    return S_k\n",
    "\n",
    "def assort_misp_k(k, D, _lambda): \n",
    "    model = Model()\n",
    "    model.setParam(\"LogToConsole\", 0)\n",
    "\n",
    "    Z = model.addVar(vtype=GRB.BINARY, name='indicator')\n",
    "    S = model.addVars([i for i in supply], vtype=GRB.CONTINUOUS, name='inventory')\n",
    "    F = model.addVars([(m, i, j) for m in range(len(D)) for i in supply for j in demand], vtype=GRB.CONTINUOUS, name='fulfill')\n",
    "    \n",
    "    allocation_cost = sum(S[i] * b for i in supply[1:])\n",
    "    fulfill_cost = sum(F[m, i, j] * cost[k, i, j] for m in range(len(D)) for i in supply for j in demand) / len(D)\n",
    "    penalty_cost = _lambda * Z\n",
    "    \n",
    "    model.setObjective(allocation_cost + fulfill_cost + penalty_cost, GRB.MINIMIZE)\n",
    "\n",
    "    model.addConstr(S[0] == 10000)\n",
    "    \n",
    "    for m in range(len(D)):\n",
    "        for i in supply:\n",
    "            model.addConstr(F.sum(m, i, '*') <= S[i])\n",
    "\n",
    "        for j in demand:\n",
    "            model.addConstr(F.sum(m, '*', j) == D[m][j])\n",
    "                 \n",
    "    model.addConstr(sum(S[i] for i in supply[1:]) <= 10000 * Z)\n",
    "        \n",
    "    model.optimize()\n",
    "    \n",
    "    S_k = model.getAttr('X', S)\n",
    "    #Z_k = model.getAttr('X', Z)\n",
    "    \n",
    "    return S_k"
   ]
  },
  {
   "cell_type": "markdown",
   "metadata": {},
   "source": [
    "We set up parameters"
   ]
  },
  {
   "cell_type": "code",
   "execution_count": 67,
   "metadata": {},
   "outputs": [],
   "source": [
    "b = 1\n",
    "\n",
    "supply = [0] + sample_dcs\n",
    "demand = sample_dcs\n",
    "cost = {}\n",
    "for k in sample_skus:\n",
    "    for j in demand:\n",
    "        for i in supply:              \n",
    "            if i == 0:\n",
    "                cost[k, i, j] = np.random.normal(10, 0)\n",
    "            else:\n",
    "#                 shortest = min(abs(sample_dcs.index(j) - sample_dcs.index(i)), len(sample_dcs) - abs(sample_dcs.index(j) - sample_dcs.index(i)))\n",
    "#                 if shortest == 0:\n",
    "#                     cost[k, i, j] = 2\n",
    "#                 elif shortest == 1:\n",
    "#                     cost[k, i, j] = 3\n",
    "#                 elif shortest == 2:\n",
    "#                     cost[k, i, j] = 4\n",
    "#                 elif shortest == 3:\n",
    "#                     cost[k, i, j] = 5\n",
    "#                 elif shortest == 4:\n",
    "#                     cost[k, i, j] = 6\n",
    "\n",
    "                if i == j:\n",
    "                    cost[k, i, j] = np.random.normal(2, 0)\n",
    "                elif i == sample_dcs[0]:\n",
    "                    cost[k, i, j] = np.random.normal(5, 0)\n",
    "                elif (i, j) in [(33, 34), (34, 35), (35, 64), (64, 33)]:    \n",
    "                    cost[k, i, j] = np.random.normal(4, 0)\n",
    "                else:\n",
    "                    cost[k, i, j] = np.random.normal(6, 0)\n",
    "            "
   ]
  },
  {
   "cell_type": "markdown",
   "metadata": {},
   "source": [
    "\n",
    "We optimize inventory allocation with cardinality constraints"
   ]
  },
  {
   "cell_type": "code",
   "execution_count": 61,
   "metadata": {},
   "outputs": [],
   "source": [
    "def greedy_projection(S, Delta):  \n",
    "    model = Model('projection')\n",
    "    model.setParam(\"LogToConsole\", 0)\n",
    "    transfer = model.addVars([(k, i, j) for k in sample_skus for i in supply for j in supply[1:]], vtype=GRB.CONTINUOUS, ub=1, name='transfer')\n",
    "    empty = model.addVars([(k, j) for k in sample_skus for j in supply[1:]], vtype=GRB.BINARY, name='empty')   \n",
    "        \n",
    "    loss = 0\n",
    "    for k in sample_skus:\n",
    "        for i in supply:\n",
    "            for j in supply[1:]:\n",
    "                loss += transfer[k, i, j] * Delta[k, i, j] \n",
    "        \n",
    "    model.setObjective(loss, GRB.MINIMIZE)\n",
    "\n",
    "    for j in supply[1:]:\n",
    "        model.addConstr(sum(empty[k, j] for k in sample_skus) >= len(sample_skus) - card[j])\n",
    "\n",
    "        for k in sample_skus:\n",
    "            model.addConstr(sum(transfer[k, i, j] for i in supply) >= empty[k, j])\n",
    "            model.addConstr(sum(transfer[k, i, j] for i in supply) <= 1)\n",
    "\n",
    "        for k in sample_skus:\n",
    "            for i in supply[1:]:\n",
    "                model.addConstr(transfer[k, j, i] <= 1 - empty[k, j])\n",
    "                \n",
    "        q = 0\n",
    "        for k in sample_skus:\n",
    "            q += S[k, j] * (1 - sum(transfer[k, i, j] for i in supply))\n",
    "            for i in supply[1:]:\n",
    "                q += S[k, i] * transfer[k, j, i]\n",
    "        \n",
    "        model.addConstr(q <= unit[j])\n",
    "\n",
    "    model.optimize()\n",
    "    \n",
    "    return model, transfer, empty"
   ]
  },
  {
   "cell_type": "code",
   "execution_count": 81,
   "metadata": {},
   "outputs": [],
   "source": [
    "card, unit = {}, {}\n",
    "for i in supply[1:]:\n",
    "    if i == sample_dcs[0]:\n",
    "        card[i] = 200\n",
    "        unit[i] = 10000\n",
    "    else:\n",
    "        card[i] = 200\n",
    "        unit[i] = 2000\n",
    "        \n",
    "S_init = defaultdict(float)\n",
    "\n",
    "for k in sample_skus:\n",
    "    S_init[k, 0] = 1e8 \n",
    "    for i in supply[1:]:\n",
    "        S_init[k, i] = int(expected[k, i])\n",
    "        #S_init[k, i] = 0"
   ]
  },
  {
   "cell_type": "code",
   "execution_count": 82,
   "metadata": {},
   "outputs": [
    {
     "name": "stdout",
     "output_type": "stream",
     "text": [
      "3 [164, 133, 111, 112, 93, 97, 96, 93, 93, 79, 84, 87, 85, 86, 86, 82, 79, 79, 75, 70, 72, 68, 74, 76, 72, 76, 75, 64, 66, 70, 70, 66, 69, 67, 69, 71, 73, 62, 69, 68, 70, 60, 61, 68, 70, 68, 65, 64, 60, 57, 57, 63, 65, 57, 58, 58, 57, 61, 61, 60, 55, 54, 57, 54, 53, 62, 60, 58, 51, 49, 58, 53, 58, 50, 55, 50, 50, 54, 49, 56, 56, 54, 57, 52, 58, 47, 55, 53, 49, 45, 50, 53, 51, 47, 47, 49, 49, 46, 50, 51, 50, 48, 47, 49, 46, 44, 44, 46, 45, 45, 46, 47, 44, 46, 44, 46, 45, 47, 46, 46, 43, 46, 43, 42, 41, 39, 39, 41, 39, 40, 41, 40, 38, 39, 38, 37, 37, 37, 33, 36, 36, 34, 34, 33, 33, 33, 34, 32, 30, 29, 30, 29, 29, 28, 26, 28, 29, 27, 28, 26, 25, 26, 25, 25, 25, 25, 25, 26, 25, 26, 27, 23, 24, 25, 24, 24, 23, 23, 22, 22, 23, 23, 22, 23, 22, 20, 22, 20, 23, 20, 21, 21, 22, 18, 21, 20, 22, 20, 20, 21]\n",
      "14 [44, 36, 29, 33, 23, 18, 27, 24, 24, 28, 27, 17, 19, 22, 16, 20, 20, 19, 19, 13, 19, 18, 18, 20, 21, 12, 21, 18, 21, 16, 20, 13, 15, 22, 19, 16, 19, 17, 20, 16, 16, 16, 17, 16, 9, 12, 14, 14, 18, 15, 15, 12, 8, 17, 13, 13, 16, 12, 7, 10, 12, 13, 8, 8, 13, 7, 7, 10, 11, 11, 7, 9, 10, 9, 9, 11, 9, 9, 12, 7, 7, 8, 6, 9, 7, 10, 6, 7, 10, 7, 6, 6, 6, 7, 8, 6, 6, 6, 7, 6, 6, 6, 6, 6, 6, 6, 6, 6, 6, 8, 5, 6, 7, 5, 7, 6, 6, 5, 5, 5, 6, 5, 5, 6, 5, 5, 6, 5, 5, 6, 5, 5, 5, 5, 4, 5, 4, 4, 5, 5, 5, 5, 5, 5, 5, 5, 4, 4, 4, 4, 4, 4, 4, 4, 5, 4, 5, 4, 4, 4, 4, 4, 4, 4, 4, 4, 4, 4, 4, 4, 4, 4, 4, 3, 4, 4, 4, 4, 4, 3, 4, 3, 3, 4, 4, 4, 4, 4, 3, 3, 3, 3, 3, 4, 3, 4, 3, 4, 4, 3]\n",
      "33 [321, 226, 150, 137, 93, 92, 78, 71, 64, 59, 50, 58, 47, 38, 35, 24, 26, 17, 24, 27, 19, 23, 18, 9, 15, 18, 5, 13, 6, 10, 5, 15, 8, 2, 4, 1, 3, 8, 2, 3, 2, 2, 3, 1, 1, 1, 1, 1, 1, 1, 1, 1, 1, 1, 1, 1, 1, 1, 0, 1, 1, 1, 1, 1, 1, 1, 1, 0, 1, 1, 0, 1, 0, 0, 1, 1, 1, 1, 0, 1, 1, 0, 0, 1, 1, 1, 0, 1, 1, 0, 1, 0, 0, 0, 0, 0, 0, 0, 0, 0, 0, 0, 1, 0, 0, 0, 1, 0, 0, 0, 0, 0, 0, 0, 0, 0, 1, 0, 0, 0, 0, 0, 0, 1, 0, 1, 1, 0, 0, 0, 0, 0, 0, 0, 0, 0, 0, 0, 0, 0, 0, 0, 0, 0, 0, 0, 0, 0, 0, 0, 0, 0, 0, 0, 0, 0, 0, 0, 0, 0, 0, 0, 0, 0, 0, 0, 0, 0, 0, 0, 0, 0, 0, 0, 0, 0, 0, 0, 0, 0, 0, 0, 0, 0, 0, 0, 0, 0, 0, 0, 0, 0, 0, 0, 0, 0, 0, 0, 0, 0]\n",
      "34 [191, 136, 94, 89, 65, 63, 58, 52, 48, 44, 44, 43, 42, 38, 34, 31, 26, 28, 21, 26, 26, 22, 19, 24, 16, 19, 21, 22, 20, 20, 18, 20, 20, 19, 19, 18, 15, 20, 10, 15, 11, 14, 14, 14, 11, 11, 9, 7, 8, 10, 10, 9, 7, 7, 8, 8, 10, 6, 8, 8, 6, 5, 10, 5, 7, 2, 2, 2, 4, 4, 1, 3, 2, 3, 2, 1, 3, 1, 2, 1, 2, 1, 1, 2, 1, 3, 1, 2, 1, 2, 3, 1, 1, 1, 1, 1, 1, 1, 1, 1, 1, 1, 1, 1, 1, 2, 1, 1, 1, 1, 1, 1, 1, 1, 1, 1, 1, 1, 1, 1, 1, 0, 1, 1, 1, 1, 1, 1, 1, 1, 1, 1, 1, 1, 1, 1, 1, 1, 1, 0, 0, 1, 1, 1, 1, 1, 0, 1, 0, 1, 0, 0, 1, 1, 1, 1, 0, 0, 0, 1, 0, 0, 0, 0, 1, 0, 0, 0, 1, 1, 0, 1, 0, 1, 0, 0, 1, 1, 1, 1, 0, 0, 0, 0, 1, 1, 0, 0, 0, 1, 0, 1, 0, 0, 0, 1, 0, 0, 1, 0]\n",
      "35 [181, 130, 92, 90, 61, 56, 58, 48, 51, 43, 44, 41, 41, 37, 35, 29, 26, 24, 25, 26, 22, 24, 19, 21, 20, 21, 21, 20, 21, 20, 20, 21, 21, 20, 16, 20, 15, 18, 15, 16, 15, 16, 16, 12, 13, 7, 9, 9, 8, 13, 10, 7, 11, 8, 9, 8, 4, 7, 6, 3, 7, 7, 3, 6, 2, 4, 2, 5, 5, 5, 5, 4, 2, 4, 3, 3, 3, 2, 3, 2, 2, 2, 1, 3, 2, 4, 1, 2, 2, 3, 3, 1, 1, 2, 2, 1, 1, 1, 1, 1, 1, 1, 1, 1, 1, 2, 1, 1, 1, 1, 1, 1, 1, 1, 1, 1, 1, 1, 1, 1, 1, 0, 1, 1, 1, 1, 1, 1, 1, 1, 1, 1, 1, 1, 1, 1, 1, 1, 1, 0, 0, 1, 1, 1, 1, 1, 0, 1, 1, 1, 0, 1, 1, 1, 1, 1, 0, 1, 0, 1, 0, 0, 0, 1, 1, 1, 0, 0, 1, 1, 0, 1, 1, 1, 1, 1, 1, 1, 1, 1, 1, 0, 0, 0, 0, 1, 0, 1, 0, 1, 1, 0, 0, 1, 0, 0, 0, 0, 0, 0]\n",
      "64 [166, 119, 80, 82, 55, 53, 52, 45, 48, 39, 40, 38, 37, 34, 32, 26, 26, 24, 23, 24, 21, 21, 20, 19, 21, 19, 19, 19, 20, 19, 17, 18, 17, 17, 16, 16, 18, 18, 16, 16, 16, 14, 15, 12, 13, 11, 11, 12, 11, 9, 7, 10, 9, 9, 9, 9, 8, 9, 7, 7, 9, 8, 8, 7, 7, 7, 6, 3, 7, 7, 5, 5, 4, 5, 4, 6, 5, 4, 5, 5, 3, 4, 3, 4, 2, 5, 3, 5, 4, 5, 2, 4, 2, 4, 3, 3, 2, 4, 2, 2, 2, 3, 2, 1, 3, 3, 3, 2, 2, 2, 1, 1, 2, 1, 2, 1, 1, 1, 1, 1, 1, 1, 1, 1, 1, 2, 2, 1, 2, 1, 1, 1, 2, 1, 1, 2, 1, 1, 1, 1, 1, 1, 1, 1, 1, 1, 1, 1, 1, 1, 1, 1, 1, 1, 1, 1, 0, 1, 1, 1, 1, 1, 0, 1, 1, 1, 1, 0, 1, 1, 0, 1, 1, 1, 1, 0, 1, 0, 1, 1, 1, 1, 1, 0, 1, 1, 1, 1, 1, 1, 1, 1, 0, 1, 0, 1, 0, 1, 1, 0]\n",
      "------------------\n"
     ]
    }
   ],
   "source": [
    "S_init = solve_allocation(M=1, rho=0, assort=True)\n",
    "# solve_allocation_coordinate(False)"
   ]
  },
  {
   "cell_type": "code",
   "execution_count": 83,
   "metadata": {},
   "outputs": [],
   "source": [
    "def solve_allocation_coordinate(assort=True):\n",
    "    for tau in range(3):\n",
    "        for k in sample_skus:\n",
    "            D = []\n",
    "            for _iter in range(200):\n",
    "                sample_path = demand_scenarios[_iter]\n",
    "                D_ins = collections.defaultdict(int)\n",
    "                for pair in sample_path:\n",
    "                    if k == pair[0]:\n",
    "                        D_ins[pair[1]] += 1\n",
    "                D.append(D_ins)  \n",
    "\n",
    "            card_tmp = {i:0 for i in sample_dcs}\n",
    "            for i in sample_dcs:\n",
    "                for l in sample_skus:\n",
    "                    if l != k and S_init[l, i] > 0:\n",
    "                        card_tmp[i] += 1\n",
    "\n",
    "            regu = {}\n",
    "            for i in sample_dcs:\n",
    "                if card[i] - 1 - card_tmp[i] >= 0:\n",
    "                    regu[i] = 0\n",
    "                else:\n",
    "                    regu[i] = 1\n",
    "\n",
    "            critical = {}\n",
    "            for i in sample_dcs:\n",
    "                position = [S_init[l, i] for l in sample_skus if l != k]\n",
    "                if card[i] < len(sample_skus):\n",
    "                    critical[i] = sorted(position, reverse=True)[card[i]-1]\n",
    "                else:\n",
    "                    crtitcal[i] = 0\n",
    "            \n",
    "            if assort:\n",
    "                _lambda = 800\n",
    "                S_k = assort_misp_k(k, D, _lambda)\n",
    "                \n",
    "                for i in sample_dcs:\n",
    "                    S_init[k, i] = S_k[i]\n",
    "                    \n",
    "            elif sum(S_init[k, i] for i in sample_dcs) > 0:\n",
    "                _lambda = 7\n",
    "                S_k = misp_k(k, S_init, D, _lambda, regu, critical)\n",
    "\n",
    "                for i in sample_dcs:\n",
    "                    S_init[k, i] = S_k[i]\n",
    "                \n",
    "        for i in supply[1:]:\n",
    "            res = []\n",
    "            for k in sample_skus:\n",
    "                res.append(int(S_init[k, i]))\n",
    "            print(i, res)\n",
    "        print('------------------')"
   ]
  },
  {
   "cell_type": "code",
   "execution_count": 84,
   "metadata": {
    "scrolled": true
   },
   "outputs": [],
   "source": [
    "def solve_allocation(M, rho, assort=True):\n",
    "    for m in range(M):\n",
    "        # update S_init given rho\n",
    "        for loop in range(1):\n",
    "#             _empty = defaultdict(int)\n",
    "#             if assort:\n",
    "#                 if m > 0:\n",
    "#                     model, transfer, empty = greedy_projection(S_init, delta)\n",
    "#                     _empty, _transfer = model.getAttr('X', empty), model.getAttr('X', transfer) \n",
    "\n",
    "#             else:\n",
    "#                 for i in supply[1:]:\n",
    "#                     small_index = np.argsort([S_init[k, i] for k in sample_skus])[:len(sample_skus)-card[i]]\n",
    "#                     small_k = [sample_skus[idx] for idx in small_index]\n",
    "#                     for k in small_k:\n",
    "#                         _empty[k, i] = 1   \n",
    "\n",
    "            ## update linear approximation\n",
    "            sub_grad = defaultdict(float)\n",
    "#             for i in supply[1:]:\n",
    "#                 for k in sample_skus:\n",
    "#                     sub_grad[i, k] = _empty[k, i] * rho\n",
    "\n",
    "            ## update S_init given the convex relaxation \n",
    "            solutions = defaultdict(int)\n",
    "            delta = defaultdict(float)\n",
    "            for _iter in range(400):\n",
    "                sample_path = demand_scenarios[_iter]\n",
    "                D = collections.defaultdict(int)\n",
    "                for pair in sample_path:\n",
    "                    k, i = pair[0], pair[1]\n",
    "                    D[k, i] += 1\n",
    "\n",
    "                if _iter == 0:\n",
    "                    model, fulfill = optimize(S_init, D)\n",
    "                    _fulfill = model.getAttr('X', fulfill)\n",
    "                else:\n",
    "                    for k in sample_skus:\n",
    "                        for j in demand:\n",
    "                            name = 'demand_' + str(k) + '_' + str(j)\n",
    "                            constr = model.getConstrByName(name)\n",
    "                            constr.setAttr(GRB.Attr.RHS, D[k, j])\n",
    "                        for i in supply[1:]:\n",
    "                            name = 'supply_' + str(k) + '_' + str(i)\n",
    "                            constr = model.getConstrByName(name)\n",
    "                            constr.setAttr(GRB.Attr.RHS, S_init[k, i])\n",
    "    \n",
    "                    model.update()\n",
    "                    model.optimize()\n",
    "\n",
    "#                 if _iter >= 0:\n",
    "#                     ## fulfillment cost\n",
    "#                     for k in sample_skus:             \n",
    "#                         for i in supply:\n",
    "#                             for j in supply[1:]:\n",
    "#                                 fc = sum(_fulfill[k, j, l] * (cost[k, i, l] - cost[k, j, l]) for l in demand) \n",
    "#                                 if i == 0 and j != 0:\n",
    "#                                     ac = 0 - S_init[k, j] * b \n",
    "#                                     delta[k, i, j] += (fc + ac)\n",
    "#                                 else: \n",
    "#                                     delta[k, i, j] += fc\n",
    "\n",
    "                ## update capacity\n",
    "                size = defaultdict(int)\n",
    "                eta = 3 / (np.sqrt(_iter + 1))\n",
    "                dual, grad = {}, {}   \n",
    "                for i in supply[1:]:\n",
    "                    for k in sample_skus: \n",
    "                        name = 'supply_' + str(k) + '_' + str(i)\n",
    "                        dual[(k, i)] = model.getConstrByName(name).Pi\n",
    "                        grad[k, i] = dual[k, i] + b + sub_grad[i, k]\n",
    "\n",
    "                        S_init[k, i] = max(0, S_init[k, i] - eta * grad[k, i])\n",
    "                        size[i] += S_init[k, i]\n",
    "\n",
    "                ## projection to L-1 norm\n",
    "                for i in supply[1:]:\n",
    "\n",
    "                    if size[i] > unit[i]:\n",
    "                        mu = sorted([S_init[k, i] for k in sample_skus], reverse=True)\n",
    "                        largest_idx = 0\n",
    "                        for l in range(len(mu)):\n",
    "                            if mu[l] - (sum(mu[:l+1]) - unit[i]) / (l+1) > 0:\n",
    "                                largest_idx = l\n",
    "                            else:\n",
    "                                break\n",
    "                        theta = (sum(mu[:largest_idx+1]) - unit[i]) / (largest_idx+1)\n",
    "                        for k in sample_skus:\n",
    "                            S_init[k, i] = max(S_init[k, i] - theta, 0)\n",
    "                         \n",
    "                    for k in sample_skus:    \n",
    "                        solutions[k, i] += S_init[k, i]   \n",
    "\n",
    "            for k in sample_skus:\n",
    "                for j in supply[1:]:\n",
    "                    S_init[k, j] = int(solutions[k, j] / 400)\n",
    "                    for i in supply:\n",
    "                        delta[k, i, j] = int(delta[k, i, j] / 400)\n",
    "\n",
    "            for i in supply[1:]:\n",
    "                res = []\n",
    "                for k in sample_skus:\n",
    "                    res.append(S_init[k, i])\n",
    "                print(i, res)\n",
    "            print('------------------')\n",
    "\n",
    "    #     # update rho given S_init\n",
    "    #     kappa = 0.01\n",
    "    #     delta = {}\n",
    "    #     for i in supply[1:]:\n",
    "    #         delta[i] = kappa * sum(sorted([S_init[k, i] for k in sample_skus])[:len(sample_skus)-card[i]]) \n",
    "\n",
    "#         rho += 1\n",
    "#         print(rho)\n",
    "    return S_init"
   ]
  },
  {
   "cell_type": "code",
   "execution_count": 85,
   "metadata": {},
   "outputs": [],
   "source": [
    "allocation = []\n",
    "for i in supply[1:]:\n",
    "    res = []\n",
    "    for k in sample_skus:\n",
    "        if int(S_init[k, i]) <= 0:\n",
    "            Q = 0\n",
    "            S_init[k, i] = 0\n",
    "        else:\n",
    "            Q = int(S_init[k, i])\n",
    "        res.append(Q)\n",
    "    allocation.append(res)\n",
    "allocation = np.array(allocation)"
   ]
  },
  {
   "cell_type": "code",
   "execution_count": 86,
   "metadata": {},
   "outputs": [
    {
     "data": {
      "text/plain": [
       "array([[164, 133, 111, ...,  20,  20,  21],\n",
       "       [ 44,  36,  29, ...,   4,   4,   3],\n",
       "       [321, 226, 150, ...,   0,   0,   0],\n",
       "       [191, 136,  94, ...,   0,   1,   0],\n",
       "       [181, 130,  92, ...,   0,   0,   0],\n",
       "       [166, 119,  80, ...,   1,   1,   0]])"
      ]
     },
     "execution_count": 86,
     "metadata": {},
     "output_type": "execute_result"
    }
   ],
   "source": [
    "allocation"
   ]
  },
  {
   "cell_type": "markdown",
   "metadata": {},
   "source": [
    "We present the results"
   ]
  },
  {
   "cell_type": "code",
   "execution_count": 1361,
   "metadata": {},
   "outputs": [],
   "source": [
    "df = pd.read_excel('300sku_quantity_v3.xlsx')\n",
    "allocation = np.array(df)\n",
    "for k in sample_skus:\n",
    "    for i in sample_dcs:\n",
    "        idx_k = sample_skus.index(k)\n",
    "        idx_i = sample_dcs.index(i)\n",
    "        S_init[k, i] = allocation[idx_i, idx_k]"
   ]
  },
  {
   "cell_type": "code",
   "execution_count": 658,
   "metadata": {},
   "outputs": [],
   "source": [
    "import pandas as pd\n",
    "df = pd.DataFrame(allocation)\n",
    "df.to_excel('20sku_quantity_v2.xlsx', index=False)"
   ]
  },
  {
   "cell_type": "markdown",
   "metadata": {},
   "source": [
    "We simulate online fulfillment"
   ]
  },
  {
   "cell_type": "code",
   "execution_count": 87,
   "metadata": {},
   "outputs": [
    {
     "name": "stdout",
     "output_type": "stream",
     "text": [
      "---iter 0---\n",
      "96153.0\n",
      "97867.0\n",
      "99926.0\n",
      "22216\n",
      "---iter 1---\n",
      "96318.0\n",
      "97850.0\n",
      "100141.0\n",
      "22285\n",
      "---iter 2---\n",
      "96267.0\n",
      "98143.0\n",
      "100082.0\n",
      "22246\n",
      "---iter 3---\n",
      "95591.0\n",
      "97323.0\n",
      "99386.0\n",
      "22206\n",
      "---iter 4---\n",
      "96716.0\n",
      "98243.0\n",
      "100301.0\n",
      "22274\n",
      "---iter 5---\n",
      "95986.0\n",
      "97699.0\n",
      "99734.0\n",
      "22209\n",
      "---iter 6---\n",
      "95867.0\n",
      "97630.0\n",
      "99652.0\n",
      "22213\n",
      "---iter 7---\n",
      "96079.0\n",
      "97508.0\n",
      "99840.0\n",
      "22244\n",
      "---iter 8---\n",
      "95963.0\n",
      "97699.0\n",
      "99774.0\n",
      "22222\n",
      "---iter 9---\n",
      "95399.0\n",
      "97104.0\n",
      "99156.0\n",
      "22184\n"
     ]
    }
   ],
   "source": [
    "offline_value, online_value, online_value_greedy = [], [], []\n",
    "offline_fulfill, online_fulfill = defaultdict(int), defaultdict(int)\n",
    "\n",
    "np.random.seed(1234)\n",
    "for _iter in range(10):    \n",
    "    print('---iter ' + str(_iter) + '---')\n",
    "    sample_path = demand_scenarios[_iter]\n",
    "    \n",
    "    #offline\n",
    "    D = collections.defaultdict(int)\n",
    "    for pair in sample_path:\n",
    "        k, j = pair[0], pair[1]\n",
    "        D[k, j] += 1\n",
    "\n",
    "    #D = demand_scenarios_agg[_iter]\n",
    "    model, fulfill = optimize(S_init, D)\n",
    "    offline_value.append(model.getAttr('objVal'))\n",
    "        \n",
    "    print(offline_value[_iter])\n",
    "    \n",
    "    # online \n",
    "    obj_bayes = 0\n",
    "    obj_greedy = 0\n",
    "    S_bayes = deepcopy(S_init)\n",
    "    S_greedy = deepcopy(S_init)\n",
    "    count = 0\n",
    "    for t in range(T):                               \n",
    "        if t % 20 == 0:\n",
    "            D = collections.defaultdict(int)\n",
    "            for k in sample_skus:\n",
    "                for j in sample_dcs:\n",
    "                    D[k, j] = (T-t) * sku_freq_first[sample_skus.index(k)] * dc_freq_first[sample_dcs.index(j)]\n",
    "            \n",
    "            for k in sample_skus:\n",
    "                for j in demand:\n",
    "                    name = 'demand_' + str(k) + '_' + str(j)\n",
    "                    constr = model.getConstrByName(name)\n",
    "                    constr.setAttr(GRB.Attr.RHS, D[k, j])\n",
    "                for i in supply[1:]:\n",
    "                    name = 'supply_' + str(k) + '_' + str(i)\n",
    "                    constr = model.getConstrByName(name)\n",
    "                    constr.setAttr(GRB.Attr.RHS, S_bayes[k, i])                        \n",
    "\n",
    "            model.update()\n",
    "            model.optimize()\n",
    "            _fulfill = model.getAttr('X', fulfill)\n",
    "\n",
    "            policy = {}\n",
    "            for k in sample_skus:\n",
    "                for j in demand:\n",
    "                    flow = sorted([(i, _fulfill[k, i, j]) for i in supply], key=lambda x:x[1], reverse=True)\n",
    "                    policy[k, j] = flow[0][0]\n",
    "        \n",
    "        # serve demand\n",
    "        d = sample_path[t]\n",
    "        if d[0] != 'NA':\n",
    "            count += 1\n",
    "            ### greedy \n",
    "            rank = sorted([(i, cost[d[0], i, d[1]]) for i in supply if S_greedy[d[0], i] >= 1], key=lambda x:x[1])\n",
    "            i = rank[0][0]\n",
    "            obj_greedy += cost[d[0], i, d[1]]\n",
    "            S_greedy[d[0], i] -= 1 \n",
    "            \n",
    "            ### bayes selector   \n",
    "            i = policy[d]\n",
    "            if S_bayes[d[0], i] >= 1:\n",
    "                obj_bayes += cost[d[0], i, d[1]]\n",
    "                S_bayes[d[0], i] -= 1\n",
    "                online_fulfill[(d[0], i, d[1])] += 1\n",
    "            else: \n",
    "                obj_bayes += cost[d[0], 0, d[1]]\n",
    "            \n",
    "    print(obj_bayes)\n",
    "    print(obj_greedy)\n",
    "    print(count)\n",
    "    online_value.append(obj_bayes)\n",
    "    online_value_greedy.append(obj_greedy)\n",
    "    \n",
    "#     for i in supply[1:]:\n",
    "#         res = []\n",
    "#         for k in sample_skus:\n",
    "#             res.append(int(S_bayes[k, i]))\n",
    "#         print(i, res)\n",
    "#     print('------------------')"
   ]
  },
  {
   "cell_type": "code",
   "execution_count": 88,
   "metadata": {},
   "outputs": [
    {
     "data": {
      "text/plain": [
       "(96033.9, 97706.6, 99799.2)"
      ]
     },
     "execution_count": 88,
     "metadata": {},
     "output_type": "execute_result"
    }
   ],
   "source": [
    "np.mean(offline_value), np.mean(online_value), np.mean(online_value_greedy)"
   ]
  },
  {
   "cell_type": "code",
   "execution_count": 89,
   "metadata": {},
   "outputs": [
    {
     "data": {
      "text/plain": [
       "0.01742109483198484"
      ]
     },
     "execution_count": 89,
     "metadata": {},
     "output_type": "execute_result"
    }
   ],
   "source": [
    "(97706 - 96033) / 96033"
   ]
  },
  {
   "cell_type": "code",
   "execution_count": 94,
   "metadata": {},
   "outputs": [
    {
     "data": {
      "text/plain": [
       "16500.069293172215"
      ]
     },
     "execution_count": 94,
     "metadata": {},
     "output_type": "execute_result"
    }
   ],
   "source": [
    "sum(int(S_init[k, i]) for k in sample_skus for i in sample_dcs) * b + np.mean(offline_value)"
   ]
  },
  {
   "cell_type": "code",
   "execution_count": 398,
   "metadata": {},
   "outputs": [],
   "source": [
    "flexible = {1:[('G', 'A'), ('B', 'F')], 2:[('A', 'G'), ('D', 'B')], 3:[], 4:[], 5:[], 6:[]}\n",
    "# flexible = {1:[('B', 'A'), ('C', 'B'), ('D', 'C'), ('E', 'D'), ('F', 'E'), ('G', 'F'), ('H', 'G'), ('A', 'H')], 2:[('B', 'A'), ('C', 'B'), ('D', 'C'), ('E', 'D'), ('F', 'E'), ('G', 'F'), ('H', 'G'), ('A', 'H')], 3:[], 4:[], 5:[], 6:[]}"
   ]
  },
  {
   "cell_type": "code",
   "execution_count": 420,
   "metadata": {},
   "outputs": [],
   "source": [
    "sparse, remote = 0, 0\n",
    "for k in sample_skus:\n",
    "    if k == 3:\n",
    "        for i in sample_dcs:\n",
    "            for j in sample_dcs:\n",
    "                if (i, j) in flexible[k] or cost[k, i, j] <= 4:\n",
    "                    sparse += online_fulfill[k, i, j]\n",
    "                else:\n",
    "                    remote += online_fulfill[k, i, j]"
   ]
  },
  {
   "cell_type": "code",
   "execution_count": 421,
   "metadata": {},
   "outputs": [
    {
     "data": {
      "text/plain": [
       "0.9962852897473997"
      ]
     },
     "execution_count": 421,
     "metadata": {},
     "output_type": "execute_result"
    }
   ],
   "source": [
    "sparse / (sparse + remote)"
   ]
  },
  {
   "cell_type": "markdown",
   "metadata": {},
   "source": [
    "## Appendix"
   ]
  },
  {
   "cell_type": "code",
   "execution_count": 566,
   "metadata": {},
   "outputs": [],
   "source": [
    "# MIP formulation\n",
    "def optimize_deterministic(D):  \n",
    "    model = Model('mip')\n",
    "    model.setParam(\"LogToConsole\", 1)\n",
    "    Z = model.addVars([(k, i) for k in sample_skus for i in supply[1:]], vtype=GRB.BINARY, name='indicator')\n",
    "    S = model.addVars([(k, i) for k in sample_skus for i in supply], vtype=GRB.CONTINUOUS, name='inventory')\n",
    "    F = model.addVars([(k, i, j) for k in sample_skus for i in supply for j in demand], vtype=GRB.CONTINUOUS, name='fulfill')\n",
    "    \n",
    "    allocation_cost = sum(S[k, i] * b for k in sample_skus for i in supply[1:])\n",
    "    fulfill_cost = sum(F[k, i, j] * cost[k, i, j] for k in sample_skus for i in supply for j in demand)\n",
    "    \n",
    "    model.setObjective(allocation_cost + fulfill_cost, GRB.MINIMIZE)\n",
    "\n",
    "    for k in sample_skus:\n",
    "        model.addConstr(S[k, 0] == 10000)\n",
    "        for i in supply:\n",
    "            model.addConstr(F.sum(k, i, '*') <= S[k, i], name='supply_%s_%s' % (k, i))\n",
    "\n",
    "        for j in demand:\n",
    "            model.addConstr(F.sum(k, '*', j) == D[k, j], name='demand_%s_%s' % (k, j))\n",
    "            \n",
    "    for i in supply[1:]:\n",
    "        #model.addConstr(Z.sum('*', i) <= card[i])\n",
    "        for k in sample_skus:\n",
    "            model.addConstr(S[k, i] <= 1000 * Z[k, i])\n",
    "            \n",
    "    for i in supply[1:]:\n",
    "        model.addConstr(S.sum('*', i) <= unit[i])\n",
    "\n",
    "    model.optimize()\n",
    "    \n",
    "    return model, Z, S, F"
   ]
  },
  {
   "cell_type": "code",
   "execution_count": 567,
   "metadata": {},
   "outputs": [
    {
     "name": "stdout",
     "output_type": "stream",
     "text": [
      "---\n",
      "Parameter LogToConsole unchanged\n",
      "   Value: 1  Min: 0  Max: 1  Default: 1\n",
      "Optimize a model with 406 rows, 1100 columns and 2200 nonzeros\n",
      "Variable types: 980 continuous, 120 integer (120 binary)\n",
      "Coefficient statistics:\n",
      "  Matrix range     [1e+00, 1e+03]\n",
      "  Objective range  [1e+00, 1e+01]\n",
      "  Bounds range     [1e+00, 1e+00]\n",
      "  RHS range        [8e-01, 1e+05]\n",
      "Found heuristic solution: objective 35280.000000\n",
      "Presolve removed 394 rows and 1064 columns\n",
      "Presolve time: 0.00s\n",
      "Presolved: 12 rows, 36 columns, 72 nonzeros\n",
      "Found heuristic solution: objective 18333.000000\n",
      "Variable types: 36 continuous, 0 integer (0 binary)\n",
      "\n",
      "Root relaxation: objective 1.058400e+04, 14 iterations, 0.00 seconds\n",
      "\n",
      "    Nodes    |    Current Node    |     Objective Bounds      |     Work\n",
      " Expl Unexpl |  Obj  Depth IntInf | Incumbent    BestBd   Gap | It/Node Time\n",
      "\n",
      "*    0     0               0    10584.000000 10584.0000  0.00%     -    0s\n",
      "\n",
      "Explored 0 nodes (14 simplex iterations) in 0.02 seconds\n",
      "Thread count was 4 (of 4 available processors)\n",
      "\n",
      "Solution count 2: 10584 18333 \n",
      "\n",
      "Optimal solution found (tolerance 1.00e-04)\n",
      "Best objective 1.058400000000e+04, best bound 1.058400000000e+04, gap 0.0000%\n",
      "[105, 77, 18, 18, 17, 17, 17, 17, 3, 3, 3, 3, 3, 3, 3, 3, 3, 3, 3, 3]\n",
      "[22, 16, 4, 3, 3, 3, 3, 3, 0, 0, 0, 0, 0, 0, 0, 0, 0, 0, 0, 0]\n",
      "[388, 285, 69, 68, 66, 66, 64, 64, 14, 14, 14, 14, 13, 13, 13, 13, 13, 13, 13, 13]\n",
      "[212, 156, 38, 37, 36, 36, 35, 35, 7, 7, 7, 7, 7, 7, 7, 7, 7, 7, 7, 7]\n",
      "[198, 146, 35, 35, 33, 33, 33, 32, 7, 7, 7, 7, 6, 6, 6, 6, 6, 6, 6, 6]\n",
      "[180, 132, 32, 31, 30, 30, 30, 29, 6, 6, 6, 6, 6, 6, 6, 6, 6, 6, 6, 6]\n"
     ]
    }
   ],
   "source": [
    "sample_mean = defaultdict(int)\n",
    "for _iter in range(200):\n",
    "    sample_path = demand_scenarios[_iter] \n",
    "    for pair in sample_path:\n",
    "        k, i = pair[0], pair[1]\n",
    "        sample_mean[k, i] += 1\n",
    "#     D = demand_scenarios_agg[_iter]\n",
    "#     for k in sample_skus:\n",
    "#         for j in demand:\n",
    "#             sample_mean[k, j] += D[k, j]\n",
    "\n",
    "print('---')\n",
    "D = {}\n",
    "for k in sample_skus:\n",
    "    for j in demand:\n",
    "        D[k, j] = expected[k, j]\n",
    "        \n",
    "model, Z, S, F = optimize_deterministic(D)\n",
    "_S = model.getAttr('X', S)\n",
    "for i in supply[1:]:\n",
    "    res = []\n",
    "    for k in sample_skus:\n",
    "        res.append(int(_S[k, i]))\n",
    "    print(res)\n",
    "    \n",
    "S_init = _S"
   ]
  },
  {
   "cell_type": "code",
   "execution_count": null,
   "metadata": {},
   "outputs": [],
   "source": []
  }
 ],
 "metadata": {
  "kernelspec": {
   "display_name": "Python 3",
   "language": "python",
   "name": "python3"
  },
  "language_info": {
   "codemirror_mode": {
    "name": "ipython",
    "version": 3
   },
   "file_extension": ".py",
   "mimetype": "text/x-python",
   "name": "python",
   "nbconvert_exporter": "python",
   "pygments_lexer": "ipython3",
   "version": "3.8.8"
  }
 },
 "nbformat": 4,
 "nbformat_minor": 4
}
